{
 "cells": [
  {
   "cell_type": "code",
   "execution_count": 1,
   "id": "fa3cf187",
   "metadata": {},
   "outputs": [],
   "source": [
    "# Code adapté des liens suivants : \n",
    "# https://medium.com/geekculture/neural-machine-translation-using-sequence-to-sequence-model-164a5905bcd7\n",
    "# https://machinelearningmastery.com/develop-encoder-decoder-model-sequence-sequence-prediction-keras/"
   ]
  },
  {
   "cell_type": "code",
   "execution_count": 2,
   "id": "1a6b9a25",
   "metadata": {},
   "outputs": [],
   "source": [
    "import pandas as pd\n",
    "import tensorflow as tf\n",
    "import numpy as np\n",
    "from tqdm import tqdm\n",
    "from tensorflow.keras.layers import LSTM, Dropout, Dense, Embedding\n",
    "from tensorflow.keras import Input, Model\n",
    "from tensorflow.keras.callbacks import EarlyStopping"
   ]
  },
  {
   "cell_type": "code",
   "execution_count": 4,
   "id": "b10543aa",
   "metadata": {
    "scrolled": true
   },
   "outputs": [
    {
     "name": "stdout",
     "output_type": "stream",
     "text": [
      "Nombre de données d'entrainement : range(0, 181763)\n",
      "Nombre de mots uniques : 35601\n",
      "Nombre de caractères uniques : 38\n",
      "Taille max texte : 31\n",
      "Taille max label : 6\n"
     ]
    }
   ],
   "source": [
    "# Adaptation à notre cas\n",
    "\n",
    "# Traitement des labels\n",
    "\n",
    "df_train = pd.read_csv(\"train.csv\")\n",
    "\n",
    "words_to_use = set()\n",
    "char_to_predict = set()\n",
    "input_texts = []\n",
    "target_labels = []\n",
    "\n",
    "max_input_text_length = 0\n",
    "max_label_length = 0\n",
    "\n",
    "base_labels = df_train.ICD10.values\n",
    "base_texts = df_train.RawText.values\n",
    "\n",
    "for idx_sample in range(len(df_train.ICD10)) : \n",
    "\n",
    "    base_text = base_texts[idx_sample]\n",
    "    base_label = base_labels[idx_sample]\n",
    "    \n",
    "    input_text = base_text.split()\n",
    "    target_label =  [\"<s>\"] + list(base_label) + [\"</s>\"]    \n",
    "    \n",
    "    if len(input_text) > max_input_text_length : \n",
    "        max_input_text_length = len(input_text)\n",
    "    \n",
    "    if len(target_label) > max_label_length : \n",
    "        max_label_length = len(target_label)\n",
    "    \n",
    "    for word in input_text : \n",
    "        words_to_use.add(word)\n",
    "    \n",
    "    for char in target_label : \n",
    "        char_to_predict.add(char) \n",
    "        \n",
    "    input_texts.append(input_text)\n",
    "    target_labels.append(target_label)\n",
    "            \n",
    "words_to_use = sorted(list(words_to_use))\n",
    "char_to_predict = sorted(list(char_to_predict))\n",
    "\n",
    "print(\"Nombre de données d'entrainement :\", range(len(df_train.ICD10)))\n",
    "print(\"Nombre de mots uniques :\", len(words_to_use))\n",
    "print(\"Nombre de caractères uniques :\", len(char_to_predict))\n",
    "print(\"Taille max texte :\", max_input_text_length)\n",
    "print(\"Taille max label :\", max_label_length)"
   ]
  },
  {
   "cell_type": "code",
   "execution_count": 5,
   "id": "1132e10d",
   "metadata": {},
   "outputs": [],
   "source": [
    "words_to_use_with_unk = words_to_use # Liste des mots avec le token inconnu, permet d'entrainer le label encoder\n",
    "words_to_use_with_unk.append(\"<UNK>\")\n",
    "\n",
    "dict_word_index = dict((w, i) for i, w in enumerate(words_to_use_with_unk))\n",
    "dict_char_index = dict((c, i) for i, c in enumerate(char_to_predict))\n",
    "\n",
    "#  Dictionnaire qui permettront de créer les matrices d'entrée de l'encodeur, et de l'entrée / sortie du décodeur\n",
    "dict_index_word = dict((i, w) for i, w in enumerate(words_to_use_with_unk))\n",
    "dict_index_char = dict((i, c) for i, c in enumerate(char_to_predict))"
   ]
  },
  {
   "cell_type": "code",
   "execution_count": 6,
   "id": "35a28fcc",
   "metadata": {},
   "outputs": [],
   "source": [
    "BATCH_SIZE= 512 \n",
    "\n",
    "def data_batch_generator(input_texts, target_labels, batch_size=BATCH_SIZE):\n",
    "    while True:\n",
    "        for i in range(0, len(input_texts), batch_size):\n",
    "            encoder_input_data = np.zeros((batch_size, max_input_text_length), dtype='float32') # Padding avec des zéros\n",
    "            decoder_input_data = np.zeros((batch_size, max_label_length), dtype='float32') # Padding avec des zéros\n",
    "            decoder_target_data = np.zeros((batch_size, max_label_length, 38), dtype='float32' ) # Padding avec des zéros\n",
    "            for j, (text, lab) in enumerate(zip(input_texts[i:i+batch_size], target_labels[i:i+batch_size])):\n",
    "                for t, word in enumerate(text):\n",
    "                    if word in words_to_use : \n",
    "                        encoder_input_data[j,t] = dict_word_index[word]\n",
    "                    else : \n",
    "                        encoder_input_data[j,t] = dict_word_index[\"<UNK>\"]\n",
    "                for t, char in enumerate(lab):\n",
    "                    if t < len(lab) - 1:\n",
    "                        decoder_input_data[j,t]= dict_char_index[char]\n",
    "                    if t>0:\n",
    "                        decoder_target_data[j,t-1, dict_char_index[char]] = 1.\n",
    "            yield ([encoder_input_data, decoder_input_data], decoder_target_data) "
   ]
  },
  {
   "cell_type": "code",
   "execution_count": 7,
   "id": "b6309ed5",
   "metadata": {},
   "outputs": [],
   "source": [
    "# Architecture de l'encodeur\n",
    "encoder_input = Input(shape=(None, ))\n",
    "encoder_embd = Embedding(35602,200, mask_zero=True)(encoder_input) # Taille de l'espace d'embedding : 200\n",
    "encoder_lstm = LSTM(250, return_state=True)\n",
    "encoder_output, state_h, state_c = encoder_lstm(encoder_embd)\n",
    "\n",
    "# Etats cachés et de mémoire de la couche de LSTM, utilisés en entrée du décodeur\n",
    "encoder_states= [state_h, state_c]"
   ]
  },
  {
   "cell_type": "code",
   "execution_count": 8,
   "id": "ab23913a",
   "metadata": {},
   "outputs": [],
   "source": [
    "# Architecture du premier décodeur\n",
    "decoder_input = Input(shape=(None,))\n",
    "decoder_embd = Embedding(38, 200, mask_zero=True)\n",
    "decoder_embedding= decoder_embd(decoder_input)\n",
    "\n",
    "decoder_lstm = LSTM(250, return_state=True,return_sequences=True )\n",
    "decoder_outputs, _, _= decoder_lstm(decoder_embedding, initial_state=encoder_states)\n",
    "decoder_dense= Dense(38, activation='softmax')\n",
    "decoder_outputs = decoder_dense(decoder_outputs)\n",
    "\n",
    "model_seq2seq = Model([encoder_input, decoder_input], decoder_outputs)"
   ]
  },
  {
   "cell_type": "code",
   "execution_count": 9,
   "id": "28163fc6",
   "metadata": {
    "scrolled": true
   },
   "outputs": [
    {
     "name": "stdout",
     "output_type": "stream",
     "text": [
      "Model: \"model\"\n",
      "__________________________________________________________________________________________________\n",
      " Layer (type)                   Output Shape         Param #     Connected to                     \n",
      "==================================================================================================\n",
      " input_1 (InputLayer)           [(None, None)]       0           []                               \n",
      "                                                                                                  \n",
      " input_2 (InputLayer)           [(None, None)]       0           []                               \n",
      "                                                                                                  \n",
      " embedding (Embedding)          (None, None, 200)    7120400     ['input_1[0][0]']                \n",
      "                                                                                                  \n",
      " embedding_1 (Embedding)        (None, None, 200)    7600        ['input_2[0][0]']                \n",
      "                                                                                                  \n",
      " lstm (LSTM)                    [(None, 250),        451000      ['embedding[0][0]']              \n",
      "                                 (None, 250),                                                     \n",
      "                                 (None, 250)]                                                     \n",
      "                                                                                                  \n",
      " lstm_1 (LSTM)                  [(None, None, 250),  451000      ['embedding_1[0][0]',            \n",
      "                                 (None, 250),                     'lstm[0][1]',                   \n",
      "                                 (None, 250)]                     'lstm[0][2]']                   \n",
      "                                                                                                  \n",
      " dense (Dense)                  (None, None, 38)     9538        ['lstm_1[0][0]']                 \n",
      "                                                                                                  \n",
      "==================================================================================================\n",
      "Total params: 8,039,538\n",
      "Trainable params: 8,039,538\n",
      "Non-trainable params: 0\n",
      "__________________________________________________________________________________________________\n"
     ]
    }
   ],
   "source": [
    "model_seq2seq.summary()"
   ]
  },
  {
   "cell_type": "code",
   "execution_count": 10,
   "id": "dd9da66a",
   "metadata": {},
   "outputs": [],
   "source": [
    "import keras.backend as K \n",
    "\n",
    "# Ajout à la main de la métrique de F1-score\n",
    "\n",
    "def f1_score(y_true, y_pred): #taken from old keras source code\n",
    "    true_positives = K.sum(K.round(K.clip(y_true * y_pred, 0, 1)))\n",
    "    possible_positives = K.sum(K.round(K.clip(y_true, 0, 1)))\n",
    "    predicted_positives = K.sum(K.round(K.clip(y_pred, 0, 1)))\n",
    "    precision = true_positives / (predicted_positives + K.epsilon())\n",
    "    recall = true_positives / (possible_positives + K.epsilon())\n",
    "    f1_val = 2*(precision*recall)/(precision+recall+K.epsilon())\n",
    "    return f1_val\n",
    "\n",
    "metrics = [ 'accuracy', f1_score ]"
   ]
  },
  {
   "cell_type": "code",
   "execution_count": 11,
   "id": "2739d778",
   "metadata": {},
   "outputs": [],
   "source": [
    "model_seq2seq.compile(optimizer='adam', loss='categorical_crossentropy', metrics=metrics)"
   ]
  },
  {
   "cell_type": "code",
   "execution_count": 12,
   "id": "ffb8d6e0",
   "metadata": {},
   "outputs": [],
   "source": [
    "df_val = pd.read_csv(\"val.csv\")"
   ]
  },
  {
   "cell_type": "code",
   "execution_count": 13,
   "id": "8687e31f",
   "metadata": {},
   "outputs": [],
   "source": [
    "# Traitement des labels de validation\n",
    "\n",
    "input_texts_val = []\n",
    "target_labels_val = []\n",
    "\n",
    "base_labels_val = df_val.ICD10.values\n",
    "base_texts_val = df_val.RawText.values\n",
    "\n",
    "for idx_sample in range(len(df_val.ICD10)) : \n",
    "\n",
    "    base_text_val = base_texts_val[idx_sample]\n",
    "    base_label_val = base_labels_val[idx_sample]\n",
    "    \n",
    "    input_text_val = base_text_val.split()\n",
    "    target_label_val =  [\"<s>\"] + list(base_label_val) + [\"</s>\"]    \n",
    "\n",
    "    input_texts_val.append(input_text_val)\n",
    "    target_labels_val.append(target_label_val)"
   ]
  },
  {
   "cell_type": "code",
   "execution_count": 15,
   "id": "3e796b0a",
   "metadata": {},
   "outputs": [],
   "source": [
    "# Calcul du nombre d'itérations par epochs ( en fonction de la batch size )\n",
    "steps_per_epoch= np.ceil(len(input_texts)/BATCH_SIZE)\n",
    "steps_per_epoch_val = np.ceil(len(input_texts_val)/BATCH_SIZE)"
   ]
  },
  {
   "cell_type": "code",
   "execution_count": 16,
   "id": "e4e4a722",
   "metadata": {},
   "outputs": [
    {
     "name": "stdout",
     "output_type": "stream",
     "text": [
      "[['Thrombose', 'veineuse', 'profonde', 'cuisse', 'gauche'], ['Hémiplégie', 'post-traumatique'], ['Masculinisation', 'avec', 'hyperplasie', 'surrénale'], ['Hyperammoniémie', 'cérébrale'], ['Fistule', 'artérioveineuse', 'congénitale', 'périphérique', 'vaisseaux', 'pulmonaires'], ['Prothèse', 'valvulaire', 'mécanique'], ['Tumeur', 'maligne', 'parties', 'molles', 'fesse'], ['Complexe', 'XP/CS'], ['Sclérodermie', 'acrosclérotique', 'néonatale'], ['VIH', 'pelvienne', 'femme', 'NCA', 'inflammatoire', 'compliquant', 'la', 'grossesse', 'affectant', 'foetus', 'ou', 'nouveau-né']]\n"
     ]
    }
   ],
   "source": [
    "print(input_texts[:10])"
   ]
  },
  {
   "cell_type": "code",
   "execution_count": 17,
   "id": "fdd05f7c",
   "metadata": {},
   "outputs": [
    {
     "name": "stdout",
     "output_type": "stream",
     "text": [
      "Epoch 1/10\n",
      "356/356 [==============================] - 1580s 4s/step - loss: 1.3748 - accuracy: 0.4231 - f1_score: 0.3198 - val_loss: 0.9389 - val_accuracy: 0.6004 - val_f1_score: 0.4849\n",
      "Epoch 2/10\n",
      "356/356 [==============================] - 1311s 4s/step - loss: 0.7625 - accuracy: 0.6817 - f1_score: 0.5663 - val_loss: 0.7190 - val_accuracy: 0.7019 - val_f1_score: 0.5951\n",
      "Epoch 3/10\n",
      "356/356 [==============================] - 1312s 4s/step - loss: 0.5382 - accuracy: 0.7807 - f1_score: 0.6571 - val_loss: 0.6348 - val_accuracy: 0.7447 - val_f1_score: 0.6377\n",
      "Epoch 4/10\n",
      "356/356 [==============================] - 4120s 12s/step - loss: 0.4143 - accuracy: 0.8316 - f1_score: 0.7028 - val_loss: 0.5891 - val_accuracy: 0.7690 - val_f1_score: 0.6564\n",
      "Epoch 5/10\n",
      "356/356 [==============================] - 1302s 4s/step - loss: 0.3385 - accuracy: 0.8618 - f1_score: 0.7281 - val_loss: 0.5636 - val_accuracy: 0.7839 - val_f1_score: 0.6681\n",
      "Epoch 6/10\n",
      "356/356 [==============================] - 23069s 65s/step - loss: 0.2862 - accuracy: 0.8826 - f1_score: 0.7450 - val_loss: 0.5497 - val_accuracy: 0.7944 - val_f1_score: 0.6770\n",
      "Epoch 7/10\n",
      "356/356 [==============================] - 1155s 3s/step - loss: 0.2472 - accuracy: 0.8980 - f1_score: 0.7573 - val_loss: 0.5475 - val_accuracy: 0.7994 - val_f1_score: 0.6811\n",
      "Epoch 8/10\n",
      "356/356 [==============================] - 1155s 3s/step - loss: 0.2177 - accuracy: 0.9095 - f1_score: 0.7664 - val_loss: 0.5403 - val_accuracy: 0.8071 - val_f1_score: 0.6868\n",
      "Epoch 9/10\n",
      "356/356 [==============================] - 1177s 3s/step - loss: 0.1932 - accuracy: 0.9194 - f1_score: 0.7743 - val_loss: 0.5453 - val_accuracy: 0.8095 - val_f1_score: 0.6889\n",
      "Epoch 10/10\n",
      "356/356 [==============================] - 1155s 3s/step - loss: 0.1724 - accuracy: 0.9279 - f1_score: 0.7807 - val_loss: 0.5478 - val_accuracy: 0.8136 - val_f1_score: 0.6917\n"
     ]
    }
   ],
   "source": [
    "# train model\n",
    "history_seq2seq = model_seq2seq.fit(data_batch_generator(input_texts, target_labels), \n",
    "                steps_per_epoch= steps_per_epoch, \n",
    "                validation_data= data_batch_generator(input_texts_val, target_labels_val, BATCH_SIZE),\n",
    "                validation_steps=steps_per_epoch_val,\n",
    "                epochs=10,\n",
    "                verbose=1)"
   ]
  },
  {
   "cell_type": "code",
   "execution_count": 18,
   "id": "a4a8fc8c",
   "metadata": {},
   "outputs": [
    {
     "data": {
      "image/png": "[encoded data removed]",
      "text/plain": [
       "<Figure size 864x576 with 1 Axes>"
      ]
     },
     "metadata": {
      "needs_background": "light"
     },
     "output_type": "display_data"
    }
   ],
   "source": [
    "import matplotlib.pyplot as plt\n",
    "\n",
    "# Tracé de l'exactitude en fonction des epochs\n",
    "\n",
    "plt.figure(figsize=(12,8))\n",
    "plt.plot(history_seq2seq.history['accuracy'])\n",
    "plt.plot(history_seq2seq.history['val_accuracy'])\n",
    "plt.title('model accuracy')\n",
    "plt.ylabel('accuracy')\n",
    "plt.xlabel('epoch')\n",
    "plt.legend(['train', 'vald'], loc='upper left')\n",
    "plt.show()"
   ]
  },
  {
   "cell_type": "code",
   "execution_count": 19,
   "id": "95bbc420",
   "metadata": {},
   "outputs": [
    {
     "data": {
      "image/png": "[encoded data removed]",
      "text/plain": [
       "<Figure size 864x576 with 1 Axes>"
      ]
     },
     "metadata": {
      "needs_background": "light"
     },
     "output_type": "display_data"
    }
   ],
   "source": [
    "# Tracé des loss en fonction des epochs\n",
    "\n",
    "plt.figure(figsize = (12,8))\n",
    "plt.plot(history_seq2seq.history['loss'])\n",
    "plt.plot(history_seq2seq.history['val_loss'])\n",
    "plt.title('model loss')\n",
    "plt.ylabel('loss')\n",
    "plt.xlabel('epoch')\n",
    "plt.legend(['train', 'vald'], loc='upper left')\n",
    "plt.show()"
   ]
  },
  {
   "cell_type": "code",
   "execution_count": 20,
   "id": "14f1d761",
   "metadata": {},
   "outputs": [
    {
     "data": {
      "image/png": "[encoded data removed]",
      "text/plain": [
       "<Figure size 864x576 with 1 Axes>"
      ]
     },
     "metadata": {
      "needs_background": "light"
     },
     "output_type": "display_data"
    }
   ],
   "source": [
    "# Tracé du f1-score en fonction des epochs\n",
    "\n",
    "plt.figure(figsize = (12,8))\n",
    "plt.plot(history_seq2seq.history['f1_score'])\n",
    "plt.plot(history_seq2seq.history['val_f1_score'])\n",
    "plt.title('model f1_score')\n",
    "plt.ylabel('f1_score')\n",
    "plt.xlabel('epoch')\n",
    "plt.legend(['train', 'vald'], loc='upper left')\n",
    "plt.show()"
   ]
  },
  {
   "cell_type": "code",
   "execution_count": 21,
   "id": "c31d7c4d",
   "metadata": {},
   "outputs": [],
   "source": [
    "# Nouvelle utilisation de l'encodeur pour le modèle d'inférence \n",
    "encoder_model = Model(encoder_input, encoder_states)\n",
    "\n",
    "# Architecture du second décodeur\n",
    "decoder_state_input_h = Input(shape=(250,))\n",
    "decoder_state_input_c= Input(shape=(250,))\n",
    "decoder_states_input= [decoder_state_input_h, decoder_state_input_c]\n",
    "dec_embd2 = decoder_embd(decoder_input)\n",
    "decoder_output2,state_h2, state_c2 = decoder_lstm(dec_embd2, initial_state=decoder_states_input)\n",
    "deccoder_states2= [state_h2, state_c2]\n",
    "\n",
    "# Prédiction \n",
    "decoder_output2 = decoder_dense(decoder_output2)\n",
    "\n",
    "\n",
    "decoder_model = Model(\n",
    "                      [decoder_input]+decoder_states_input,\n",
    "                      [decoder_output2]+ deccoder_states2)"
   ]
  },
  {
   "cell_type": "code",
   "execution_count": 22,
   "id": "1b9f3ad8",
   "metadata": {},
   "outputs": [],
   "source": [
    "def get_predicted_label(input_seq):\n",
    "\n",
    "    states_value = encoder_model.predict(input_seq)\n",
    "    target_seq = np.zeros((1,1))\n",
    "    target_seq[0, 0] = dict_char_index['<s>']\n",
    "    stop_condition = False\n",
    "    decoded_sentence = ''\n",
    "    \n",
    "    while not stop_condition:\n",
    "        output_tokens, h, c = decoder_model.predict([target_seq] + states_value)\n",
    "        sampled_token_index = np.argmax(output_tokens[0, -1, :])\n",
    "        sampled_char = dict_index_char[sampled_token_index]\n",
    "        \n",
    "        if (sampled_char == '<\\s>' or len(decoded_sentence) > 3):\n",
    "            stop_condition = True\n",
    "        else : \n",
    "            decoded_sentence += sampled_char\n",
    "\n",
    "        target_seq = np.zeros((1,1))\n",
    "        target_seq[0, 0] = sampled_token_index\n",
    "        \n",
    "        states_value = [h, c]\n",
    "           \n",
    "    return decoded_sentence"
   ]
  },
  {
   "cell_type": "code",
   "execution_count": 23,
   "id": "633045c8",
   "metadata": {},
   "outputs": [],
   "source": [
    "df_test = pd.read_csv(\"test.csv\")"
   ]
  },
  {
   "cell_type": "code",
   "execution_count": 32,
   "id": "8e252be1",
   "metadata": {},
   "outputs": [],
   "source": [
    "input_texts_test = []\n",
    "target_labels_test = []\n",
    "\n",
    "base_labels_test = df_test.ICD10.values\n",
    "base_texts_test = df_test.RawText.values\n",
    "\n",
    "for idx_sample in range(len(df_test.ICD10)) : \n",
    "\n",
    "    base_text_test = base_texts_test[idx_sample]\n",
    "    base_label_test = base_labels_test[idx_sample]\n",
    "    \n",
    "    input_text_test = base_text_test.split()\n",
    "    target_label_test =  [\"<s>\"] + list(base_label_test) + [\"</s>\"]    \n",
    "\n",
    "    input_texts_test.append(input_text_test)\n",
    "    target_labels_test.append(target_label_test)"
   ]
  },
  {
   "cell_type": "code",
   "execution_count": 33,
   "id": "f1880708",
   "metadata": {},
   "outputs": [],
   "source": [
    "test_gen= data_batch_generator(input_texts_test,target_labels_test,batch_size=1)\n",
    " \n",
    "Actual_test_sent = df_test.RawText.values\n",
    "Actual_test_trans= df_test.ICD10.values\n",
    "\n",
    "test_inputs=[]\n",
    "test_outputs=[]"
   ]
  },
  {
   "cell_type": "code",
   "execution_count": 34,
   "id": "50f6465b",
   "metadata": {},
   "outputs": [
    {
     "name": "stderr",
     "output_type": "stream",
     "text": [
      "86172it [07:14, 198.17it/s]\n"
     ]
    },
    {
     "ename": "KeyboardInterrupt",
     "evalue": "",
     "output_type": "error",
     "traceback": [
      "\u001b[1;31m---------------------------------------------------------------------------\u001b[0m",
      "\u001b[1;31mKeyboardInterrupt\u001b[0m                         Traceback (most recent call last)",
      "\u001b[1;32m~\\AppData\\Local\\Temp/ipykernel_18844/2464698268.py\u001b[0m in \u001b[0;36m<module>\u001b[1;34m\u001b[0m\n\u001b[1;32m----> 1\u001b[1;33m \u001b[1;32mfor\u001b[0m \u001b[1;33m(\u001b[0m\u001b[0minput\u001b[0m\u001b[1;33m,\u001b[0m \u001b[0moutput\u001b[0m\u001b[1;33m)\u001b[0m\u001b[1;33m,\u001b[0m\u001b[0m_\u001b[0m \u001b[1;32min\u001b[0m \u001b[0mtqdm\u001b[0m\u001b[1;33m(\u001b[0m\u001b[0miter\u001b[0m\u001b[1;33m(\u001b[0m\u001b[0mtest_gen\u001b[0m\u001b[1;33m)\u001b[0m\u001b[1;33m)\u001b[0m\u001b[1;33m:\u001b[0m\u001b[1;33m\u001b[0m\u001b[1;33m\u001b[0m\u001b[0m\n\u001b[0m\u001b[0;32m      2\u001b[0m     \u001b[0mtest_inputs\u001b[0m\u001b[1;33m.\u001b[0m\u001b[0mappend\u001b[0m\u001b[1;33m(\u001b[0m\u001b[0minput\u001b[0m\u001b[1;33m)\u001b[0m\u001b[1;33m\u001b[0m\u001b[1;33m\u001b[0m\u001b[0m\n\u001b[0;32m      3\u001b[0m     \u001b[0mtest_outputs\u001b[0m\u001b[1;33m.\u001b[0m\u001b[0mappend\u001b[0m\u001b[1;33m(\u001b[0m\u001b[0moutput\u001b[0m\u001b[1;33m)\u001b[0m\u001b[1;33m\u001b[0m\u001b[1;33m\u001b[0m\u001b[0m\n",
      "\u001b[1;32m~\\anaconda3\\envs\\deep_learning_univ\\lib\\site-packages\\tqdm\\std.py\u001b[0m in \u001b[0;36m__iter__\u001b[1;34m(self)\u001b[0m\n\u001b[0;32m   1178\u001b[0m \u001b[1;33m\u001b[0m\u001b[0m\n\u001b[0;32m   1179\u001b[0m         \u001b[1;32mtry\u001b[0m\u001b[1;33m:\u001b[0m\u001b[1;33m\u001b[0m\u001b[1;33m\u001b[0m\u001b[0m\n\u001b[1;32m-> 1180\u001b[1;33m             \u001b[1;32mfor\u001b[0m \u001b[0mobj\u001b[0m \u001b[1;32min\u001b[0m \u001b[0miterable\u001b[0m\u001b[1;33m:\u001b[0m\u001b[1;33m\u001b[0m\u001b[1;33m\u001b[0m\u001b[0m\n\u001b[0m\u001b[0;32m   1181\u001b[0m                 \u001b[1;32myield\u001b[0m \u001b[0mobj\u001b[0m\u001b[1;33m\u001b[0m\u001b[1;33m\u001b[0m\u001b[0m\n\u001b[0;32m   1182\u001b[0m                 \u001b[1;31m# Update and possibly print the progressbar.\u001b[0m\u001b[1;33m\u001b[0m\u001b[1;33m\u001b[0m\u001b[0m\n",
      "\u001b[1;32m~\\AppData\\Local\\Temp/ipykernel_18844/1464783055.py\u001b[0m in \u001b[0;36mdata_batch_generator\u001b[1;34m(input_texts, target_labels, batch_size)\u001b[0m\n\u001b[0;32m     10\u001b[0m                 \u001b[1;32mfor\u001b[0m \u001b[0mt\u001b[0m\u001b[1;33m,\u001b[0m \u001b[0mword\u001b[0m \u001b[1;32min\u001b[0m \u001b[0menumerate\u001b[0m\u001b[1;33m(\u001b[0m\u001b[0mtext\u001b[0m\u001b[1;33m)\u001b[0m\u001b[1;33m:\u001b[0m\u001b[1;33m\u001b[0m\u001b[1;33m\u001b[0m\u001b[0m\n\u001b[0;32m     11\u001b[0m                     \u001b[1;32mif\u001b[0m \u001b[0mword\u001b[0m \u001b[1;32min\u001b[0m \u001b[0mwords_to_use\u001b[0m \u001b[1;33m:\u001b[0m\u001b[1;33m\u001b[0m\u001b[1;33m\u001b[0m\u001b[0m\n\u001b[1;32m---> 12\u001b[1;33m                         \u001b[0mencoder_input_data\u001b[0m\u001b[1;33m[\u001b[0m\u001b[0mj\u001b[0m\u001b[1;33m,\u001b[0m\u001b[0mt\u001b[0m\u001b[1;33m]\u001b[0m \u001b[1;33m=\u001b[0m \u001b[0mdict_word_index\u001b[0m\u001b[1;33m[\u001b[0m\u001b[0mword\u001b[0m\u001b[1;33m]\u001b[0m\u001b[1;33m\u001b[0m\u001b[1;33m\u001b[0m\u001b[0m\n\u001b[0m\u001b[0;32m     13\u001b[0m                     \u001b[1;32melse\u001b[0m \u001b[1;33m:\u001b[0m\u001b[1;33m\u001b[0m\u001b[1;33m\u001b[0m\u001b[0m\n\u001b[0;32m     14\u001b[0m                         \u001b[0mencoder_input_data\u001b[0m\u001b[1;33m[\u001b[0m\u001b[0mj\u001b[0m\u001b[1;33m,\u001b[0m\u001b[0mt\u001b[0m\u001b[1;33m]\u001b[0m \u001b[1;33m=\u001b[0m \u001b[0mdict_word_index\u001b[0m\u001b[1;33m[\u001b[0m\u001b[1;34m\"<UNK>\"\u001b[0m\u001b[1;33m]\u001b[0m\u001b[1;33m\u001b[0m\u001b[1;33m\u001b[0m\u001b[0m\n",
      "\u001b[1;31mKeyboardInterrupt\u001b[0m: "
     ]
    }
   ],
   "source": [
    "for (input, output),_ in tqdm(iter(test_gen)):\n",
    "    test_inputs.append(input)\n",
    "    test_outputs.append(output)"
   ]
  },
  {
   "cell_type": "code",
   "execution_count": 28,
   "id": "c0382b47",
   "metadata": {},
   "outputs": [
    {
     "name": "stdout",
     "output_type": "stream",
     "text": [
      "Text: Douleur\n",
      "True Label: R529\n",
      "Predicted Label: R52</s>\n",
      "\n",
      "\n",
      "Text: Rupture artère splénique\n",
      "True Label: S352\n",
      "Predicted Label: S352\n",
      "\n",
      "\n",
      "Text: PNO\n",
      "True Label: S270\n",
      "Predicted Label: J939\n",
      "\n",
      "\n",
      "Text: BK pulmonaire ancien\n",
      "True Label: B909\n",
      "Predicted Label: B90I\n",
      "\n",
      "\n",
      "Text: Infection intestin Giardia\n",
      "True Label: A071\n",
      "Predicted Label: A0I1\n",
      "\n",
      "\n",
      "Text: Hypoglycémie néonatale\n",
      "True Label: P704\n",
      "Predicted Label: P761\n",
      "\n",
      "\n",
      "Text: Lésion voir aussi Maladiemastoïdienne, due à traumatisme obstétrical\n",
      "True Label: P152\n",
      "Predicted Label: P143\n",
      "\n",
      "\n",
      "Text: Thrombose vasculaire veineuse\n",
      "True Label: O873\n",
      "Predicted Label: I829\n",
      "\n",
      "\n",
      "Text: Bradycardie sinusale\n",
      "True Label: I495\n",
      "Predicted Label: I498\n",
      "\n",
      "\n",
      "Text: Cancer joue gauche\n",
      "True Label: C760\n",
      "Predicted Label: C760\n",
      "\n",
      "\n"
     ]
    }
   ],
   "source": [
    "nb_test = 10\n",
    "for idx_pred in range(nb_test) :\n",
    "    print(\"Text:\", Actual_test_sent[idx_pred])\n",
    "    print(\"True Label:\", Actual_test_trans[idx_pred])\n",
    "    print(\"Predicted Label:\", get_predicted_label(test_inputs[idx_pred]))\n",
    "    print(\"\\n\")"
   ]
  }
 ],
 "metadata": {
  "kernelspec": {
   "display_name": "deep_learning_univ",
   "language": "python",
   "name": "deep_learning_univ"
  },
  "language_info": {
   "codemirror_mode": {
    "name": "ipython",
    "version": 3
   },
   "file_extension": ".py",
   "mimetype": "text/x-python",
   "name": "python",
   "nbconvert_exporter": "python",
   "pygments_lexer": "ipython3",
   "version": "3.9.7"
  }
 },
 "nbformat": 4,
 "nbformat_minor": 5
}
