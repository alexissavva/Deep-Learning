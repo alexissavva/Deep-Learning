{
  "cells": [
    {
      "cell_type": "code",
      "execution_count": 1,
      "metadata": {
        "id": "Ykv8xpD4wOJM"
      },
      "outputs": [],
      "source": [
        "import pandas as pd\n",
        "import numpy as np\n",
        "import matplotlib.pyplot as plt\n",
        "import seaborn as sns\n",
        "from sklearn.feature_extraction.text import CountVectorizer\n",
        "from keras.layers import Bidirectional\n",
        "from keras.layers import LSTM\n",
        "from sklearn.metrics import f1_score, accuracy_score\n",
        "from sklearn.metrics import recall_score\n",
        "import tensorflow as tf\n",
        "from sklearn.preprocessing import LabelEncoder  \n",
        "from sklearn.metrics import accuracy_score, confusion_matrix\n"
      ]
    },
    {
      "cell_type": "markdown",
      "metadata": {
        "id": "hzv2U9uu0kQ0"
      },
      "source": [
        "# Partie 1"
      ]
    },
    {
      "cell_type": "code",
      "execution_count": 2,
      "metadata": {
        "id": "b4rj5rt9wfgF"
      },
      "outputs": [],
      "source": [
        "df_train = pd.read_csv(\"train.csv\")"
      ]
    },
    {
      "cell_type": "code",
      "execution_count": 3,
      "metadata": {
        "colab": {
          "base_uri": "https://localhost:8080/"
        },
        "id": "HS0Ce3v9cRn9",
        "outputId": "bd667f33-aa5c-48c3-f930-5892c38fd0bc"
      },
      "outputs": [
        {
          "data": {
            "text/plain": [
              "(181763, 2)"
            ]
          },
          "execution_count": 3,
          "metadata": {},
          "output_type": "execute_result"
        }
      ],
      "source": [
        "df_train.shape"
      ]
    },
    {
      "cell_type": "code",
      "execution_count": 4,
      "metadata": {
        "colab": {
          "base_uri": "https://localhost:8080/",
          "height": 206
        },
        "id": "4sDuvncgwmh_",
        "outputId": "5613acd2-267a-4ded-9840-4464adc7a454"
      },
      "outputs": [
        {
          "data": {
            "text/html": [
              "<div>\n",
              "<style scoped>\n",
              "    .dataframe tbody tr th:only-of-type {\n",
              "        vertical-align: middle;\n",
              "    }\n",
              "\n",
              "    .dataframe tbody tr th {\n",
              "        vertical-align: top;\n",
              "    }\n",
              "\n",
              "    .dataframe thead th {\n",
              "        text-align: right;\n",
              "    }\n",
              "</style>\n",
              "<table border=\"1\" class=\"dataframe\">\n",
              "  <thead>\n",
              "    <tr style=\"text-align: right;\">\n",
              "      <th></th>\n",
              "      <th>RawText</th>\n",
              "      <th>ICD10</th>\n",
              "    </tr>\n",
              "  </thead>\n",
              "  <tbody>\n",
              "    <tr>\n",
              "      <th>0</th>\n",
              "      <td>Thrombose veineuse profonde cuisse gauche</td>\n",
              "      <td>I802</td>\n",
              "    </tr>\n",
              "    <tr>\n",
              "      <th>1</th>\n",
              "      <td>Hémiplégie post-traumatique</td>\n",
              "      <td>S099</td>\n",
              "    </tr>\n",
              "    <tr>\n",
              "      <th>2</th>\n",
              "      <td>Masculinisation avec hyperplasie surrénale</td>\n",
              "      <td>E250</td>\n",
              "    </tr>\n",
              "    <tr>\n",
              "      <th>3</th>\n",
              "      <td>Hyperammoniémie cérébrale</td>\n",
              "      <td>E722</td>\n",
              "    </tr>\n",
              "    <tr>\n",
              "      <th>4</th>\n",
              "      <td>Fistule artérioveineuse congénitale périphériq...</td>\n",
              "      <td>Q257</td>\n",
              "    </tr>\n",
              "  </tbody>\n",
              "</table>\n",
              "</div>"
            ],
            "text/plain": [
              "                                             RawText ICD10\n",
              "0          Thrombose veineuse profonde cuisse gauche  I802\n",
              "1                        Hémiplégie post-traumatique  S099\n",
              "2         Masculinisation avec hyperplasie surrénale  E250\n",
              "3                          Hyperammoniémie cérébrale  E722\n",
              "4  Fistule artérioveineuse congénitale périphériq...  Q257"
            ]
          },
          "execution_count": 4,
          "metadata": {},
          "output_type": "execute_result"
        }
      ],
      "source": [
        "df_train.head()"
      ]
    },
    {
      "cell_type": "code",
      "execution_count": 5,
      "metadata": {
        "id": "zhKQaY0-ws4v"
      },
      "outputs": [],
      "source": [
        "labels_count = df_train.ICD10.value_counts()"
      ]
    },
    {
      "cell_type": "code",
      "execution_count": 6,
      "metadata": {
        "id": "sLWUgOucYF3H"
      },
      "outputs": [],
      "source": [
        "count_label = df_train.ICD10.value_counts()"
      ]
    },
    {
      "cell_type": "code",
      "execution_count": 7,
      "metadata": {
        "colab": {
          "base_uri": "https://localhost:8080/"
        },
        "id": "jlDh6Z_DzWln",
        "outputId": "bf29ce74-2c24-4146-ca76-f81bfdf64cff"
      },
      "outputs": [
        {
          "data": {
            "text/plain": [
              "S062    1131\n",
              "C798    1009\n",
              "C859     800\n",
              "C349     747\n",
              "Z924     676\n",
              "        ... \n",
              "M308      11\n",
              "N027      11\n",
              "O651      11\n",
              "O621      11\n",
              "M720      11\n",
              "Name: ICD10, Length: 3726, dtype: int64"
            ]
          },
          "execution_count": 7,
          "metadata": {},
          "output_type": "execute_result"
        }
      ],
      "source": [
        "labels_count[labels_count>10]"
      ]
    },
    {
      "cell_type": "code",
      "execution_count": 8,
      "metadata": {
        "colab": {
          "base_uri": "https://localhost:8080/",
          "height": 520
        },
        "id": "hZDmYdcD0y7-",
        "outputId": "62f3c9e1-57c9-423b-f09e-719e8fd59191"
      },
      "outputs": [
        {
          "data": {
            "text/plain": [
              "Text(0.5, 1.0, 'distribution de fréquence de classes')"
            ]
          },
          "execution_count": 8,
          "metadata": {},
          "output_type": "execute_result"
        },
        {
          "data": {
            "image/png": "[encoded data removed]",
            "text/plain": [
              "<Figure size 864x576 with 1 Axes>"
            ]
          },
          "metadata": {
            "needs_background": "light"
          },
          "output_type": "display_data"
        }
      ],
      "source": [
        "plt.figure(figsize=(12,8))\n",
        "plt.hist(labels_count, bins= np.arange(0,200))\n",
        "plt.title(\"distribution de fréquence de classes\", fontsize = 17)"
      ]
    },
    {
      "cell_type": "code",
      "execution_count": 9,
      "metadata": {
        "id": "Vfj8oDShznAz"
      },
      "outputs": [],
      "source": [
        "# Notre jeu des données est désequilibré : on a le 2/3 des classes qui sont apparus moins que 10 fois\n",
        "# la classe la plus fréquente est apparus 1131 (S062)\n",
        "# L'histrogramme montre bien que le dataset est déséquilibré "
      ]
    },
    {
      "cell_type": "code",
      "execution_count": 10,
      "metadata": {
        "id": "GKBZZ516cRoB",
        "outputId": "9085c79f-57f4-47d9-e509-6aaae7664159"
      },
      "outputs": [
        {
          "name": "stdout",
          "output_type": "stream",
          "text": [
            "[775, 8473]\n"
          ]
        },
        {
          "data": {
            "text/plain": [
              "<BarContainer object of 2 artists>"
            ]
          },
          "execution_count": 10,
          "metadata": {},
          "output_type": "execute_result"
        },
        {
          "data": {
            "image/png": "[encoded data removed]",
            "text/plain": [
              "<Figure size 720x504 with 1 Axes>"
            ]
          },
          "metadata": {
            "needs_background": "light"
          },
          "output_type": "display_data"
        }
      ],
      "source": [
        "names = ['Suppérieur à 50', 'Inférieur à 50']\n",
        "\n",
        "element  = sum( y > 49 for y in count_label.values )\n",
        "values = [element, len(count_label.values)-element]\n",
        "print(values)\n",
        "\n",
        "plt.figure(figsize=(10, 7))\n",
        "\n",
        "plt.subplot(131)\n",
        "plt.title(\"Apparation des ICM dans le jeu de données\", fontsize = 17)\n",
        "plt.bar(names, values)"
      ]
    },
    {
      "cell_type": "code",
      "execution_count": 11,
      "metadata": {
        "colab": {
          "base_uri": "https://localhost:8080/"
        },
        "id": "VuYwXCqwwwSd",
        "outputId": "edb9d806-29bb-48c6-9bc2-25184515c795"
      },
      "outputs": [
        {
          "name": "stdout",
          "output_type": "stream",
          "text": [
            "Nombre de mots :  659312\n",
            "Nombre de mots uniques:  35602\n"
          ]
        }
      ],
      "source": [
        "word_list = []\n",
        "for text in df_train.RawText:\n",
        "  words = text.split(\" \")\n",
        "  for w in words:\n",
        "    word_list.append(w)\n",
        "unique_word = list(set(word_list)) \n",
        "print(\"Nombre de mots : \",len(word_list))\n",
        "print(\"Nombre de mots uniques: \",len(unique_word)) "
      ]
    },
    {
      "cell_type": "code",
      "execution_count": 12,
      "metadata": {
        "id": "g9e8nR1WyAtE"
      },
      "outputs": [],
      "source": [
        "# notre dictionnaire de mots contient 35602 mots differents."
      ]
    },
    {
      "cell_type": "code",
      "execution_count": 13,
      "metadata": {
        "id": "Z-YZP7Of0DUZ"
      },
      "outputs": [],
      "source": [
        "# Vu que le jeu des données est completement désequilibré on va pas utiliser l'accuracy mais plutot le recall et la precision.\n",
        "# (UAR, WAR)"
      ]
    },
    {
      "cell_type": "markdown",
      "metadata": {
        "id": "9BCIiQ-BYF3S"
      },
      "source": [
        "# Partie 2"
      ]
    },
    {
      "cell_type": "code",
      "execution_count": 14,
      "metadata": {
        "id": "M8Ayzx6J0bxf"
      },
      "outputs": [],
      "source": [
        "df_train_first_letter = df_train.copy()\n",
        "df_train_first_letter.ICD10 = df_train_first_letter.ICD10.str.slice(0,1) "
      ]
    },
    {
      "cell_type": "code",
      "execution_count": 15,
      "metadata": {
        "colab": {
          "base_uri": "https://localhost:8080/",
          "height": 206
        },
        "id": "hSbUT2F22cSF",
        "outputId": "ee23a81a-d55d-4cb1-a980-c9e420d96b59"
      },
      "outputs": [
        {
          "data": {
            "text/html": [
              "<div>\n",
              "<style scoped>\n",
              "    .dataframe tbody tr th:only-of-type {\n",
              "        vertical-align: middle;\n",
              "    }\n",
              "\n",
              "    .dataframe tbody tr th {\n",
              "        vertical-align: top;\n",
              "    }\n",
              "\n",
              "    .dataframe thead th {\n",
              "        text-align: right;\n",
              "    }\n",
              "</style>\n",
              "<table border=\"1\" class=\"dataframe\">\n",
              "  <thead>\n",
              "    <tr style=\"text-align: right;\">\n",
              "      <th></th>\n",
              "      <th>RawText</th>\n",
              "      <th>ICD10</th>\n",
              "    </tr>\n",
              "  </thead>\n",
              "  <tbody>\n",
              "    <tr>\n",
              "      <th>0</th>\n",
              "      <td>Thrombose veineuse profonde cuisse gauche</td>\n",
              "      <td>I</td>\n",
              "    </tr>\n",
              "    <tr>\n",
              "      <th>1</th>\n",
              "      <td>Hémiplégie post-traumatique</td>\n",
              "      <td>S</td>\n",
              "    </tr>\n",
              "    <tr>\n",
              "      <th>2</th>\n",
              "      <td>Masculinisation avec hyperplasie surrénale</td>\n",
              "      <td>E</td>\n",
              "    </tr>\n",
              "    <tr>\n",
              "      <th>3</th>\n",
              "      <td>Hyperammoniémie cérébrale</td>\n",
              "      <td>E</td>\n",
              "    </tr>\n",
              "    <tr>\n",
              "      <th>4</th>\n",
              "      <td>Fistule artérioveineuse congénitale périphériq...</td>\n",
              "      <td>Q</td>\n",
              "    </tr>\n",
              "  </tbody>\n",
              "</table>\n",
              "</div>"
            ],
            "text/plain": [
              "                                             RawText ICD10\n",
              "0          Thrombose veineuse profonde cuisse gauche     I\n",
              "1                        Hémiplégie post-traumatique     S\n",
              "2         Masculinisation avec hyperplasie surrénale     E\n",
              "3                          Hyperammoniémie cérébrale     E\n",
              "4  Fistule artérioveineuse congénitale périphériq...     Q"
            ]
          },
          "execution_count": 15,
          "metadata": {},
          "output_type": "execute_result"
        }
      ],
      "source": [
        "df_train_first_letter.head()"
      ]
    },
    {
      "cell_type": "code",
      "execution_count": 16,
      "metadata": {
        "id": "ET6MW1hPcRoD",
        "outputId": "b9beef4f-a7a4-47d0-fa3c-c068c5ff4011"
      },
      "outputs": [
        {
          "data": {
            "text/plain": [
              "<AxesSubplot:>"
            ]
          },
          "execution_count": 16,
          "metadata": {},
          "output_type": "execute_result"
        },
        {
          "data": {
            "image/png": "[encoded data removed]",
            "text/plain": [
              "<Figure size 864x576 with 1 Axes>"
            ]
          },
          "metadata": {
            "needs_background": "light"
          },
          "output_type": "display_data"
        }
      ],
      "source": [
        "df_train_first_letter.ICD10.value_counts().sort_values().plot(figsize=(12,8), kind = 'barh')"
      ]
    },
    {
      "cell_type": "markdown",
      "metadata": {
        "id": "xyD7R81ycRoE"
      },
      "source": [
        "Lorsqu'on prend seuelement la première lettre, on constate que le jeu de données est un peu moins déséquilibré."
      ]
    },
    {
      "cell_type": "code",
      "execution_count": 17,
      "metadata": {
        "id": "z3Ko3byRYF3X"
      },
      "outputs": [],
      "source": [
        "df_val = pd.read_csv(\"val.csv\")\n",
        "df_val_first_letter = df_val.copy()\n",
        "df_val_first_letter.ICD10 = df_val_first_letter.ICD10.str.slice(0,1)"
      ]
    },
    {
      "cell_type": "code",
      "execution_count": 18,
      "metadata": {
        "id": "2BCWAfmvYF3Y"
      },
      "outputs": [],
      "source": [
        "#encodage des labels\n",
        "label_encoder = LabelEncoder()\n",
        "\n",
        "encoded_letters_train = label_encoder.fit_transform(df_train_first_letter.ICD10)\n",
        "dummies_letters_train = tf.keras.utils.to_categorical(encoded_letters_train)\n",
        "\n",
        "encoded_letters_val = label_encoder.transform(df_val_first_letter.ICD10)\n",
        "dummies_letters_val = tf.keras.utils.to_categorical(encoded_letters_val)"
      ]
    },
    {
      "cell_type": "code",
      "execution_count": null,
      "metadata": {
        "id": "-uqkvrATYF3Z",
        "outputId": "ecd76363-60fd-43d6-ad83-f70cca63bb61"
      },
      "outputs": [
        {
          "name": "stderr",
          "output_type": "stream",
          "text": [
            "2021-12-16 22:36:13.955121: I tensorflow/core/platform/cpu_feature_guard.cc:151] This TensorFlow binary is optimized with oneAPI Deep Neural Network Library (oneDNN) to use the following CPU instructions in performance-critical operations:  AVX2 FMA\n",
            "To enable them in other operations, rebuild TensorFlow with the appropriate compiler flags.\n"
          ]
        }
      ],
      "source": [
        "vectorize_layer = tf.keras.layers.TextVectorization(max_tokens=35602, standardize = None)\n",
        "vectorize_layer.adapt(df_train.RawText)"
      ]
    },
    {
      "cell_type": "code",
      "execution_count": null,
      "metadata": {
        "id": "C7Cz5Hf0YF3a"
      },
      "outputs": [],
      "source": [
        "model_first_letter = tf.keras.Sequential([\n",
        "    vectorize_layer,\n",
        "    tf.keras.layers.Embedding(input_dim=35602, output_dim=100),\n",
        "    tf.keras.layers.LSTM(50, dropout=0.1, recurrent_dropout=0.1, return_sequences=True),\n",
        "    tf.keras.layers.LSTM(50, dropout=0.1, recurrent_dropout=0.1, return_sequences=True),\n",
        "    tf.keras.layers.GlobalMaxPooling1D(),\n",
        "    tf.keras.layers.Dense(units=26, activation = \"softmax\")\n",
        "])"
      ]
    },
    {
      "cell_type": "code",
      "execution_count": null,
      "metadata": {
        "colab": {
          "base_uri": "https://localhost:8080/"
        },
        "id": "Vq6fOZ0TnzR-",
        "outputId": "9432cb39-87bf-4f37-dee1-9a19adc24839"
      },
      "outputs": [
        {
          "name": "stdout",
          "output_type": "stream",
          "text": [
            "Model: \"sequential\"\n",
            "_________________________________________________________________\n",
            " Layer (type)                Output Shape              Param #   \n",
            "=================================================================\n",
            " text_vectorization (TextVec  (None, None)             0         \n",
            " torization)                                                     \n",
            "                                                                 \n",
            " embedding (Embedding)       (None, None, 100)         3560200   \n",
            "                                                                 \n",
            " lstm (LSTM)                 (None, None, 50)          30200     \n",
            "                                                                 \n",
            " lstm_1 (LSTM)               (None, None, 50)          20200     \n",
            "                                                                 \n",
            " global_max_pooling1d (Globa  (None, 50)               0         \n",
            " lMaxPooling1D)                                                  \n",
            "                                                                 \n",
            " dense (Dense)               (None, 26)                1326      \n",
            "                                                                 \n",
            "=================================================================\n",
            "Total params: 3,611,926\n",
            "Trainable params: 3,611,926\n",
            "Non-trainable params: 0\n",
            "_________________________________________________________________\n"
          ]
        }
      ],
      "source": [
        "model_first_letter.summary()"
      ]
    },
    {
      "cell_type": "code",
      "execution_count": null,
      "metadata": {
        "colab": {
          "base_uri": "https://localhost:8080/"
        },
        "id": "68WtPTdSYF3b",
        "outputId": "a8dc60c9-aa3e-43f5-c0df-5bd52e026aca"
      },
      "outputs": [
        {
          "name": "stdout",
          "output_type": "stream",
          "text": [
            "Epoch 1/10\n",
            "2841/2841 [==============================] - 227s 78ms/step - loss: 0.4038 - accuracy: 0.8667 - val_loss: 0.6014 - val_accuracy: 0.8164\n",
            "Epoch 2/10\n",
            "2841/2841 [==============================] - 221s 78ms/step - loss: 0.3735 - accuracy: 0.8736 - val_loss: 0.6020 - val_accuracy: 0.8190\n",
            "Epoch 3/10\n",
            "2841/2841 [==============================] - 221s 78ms/step - loss: 0.3520 - accuracy: 0.8773 - val_loss: 0.6039 - val_accuracy: 0.8208\n",
            "Epoch 4/10\n",
            "2841/2841 [==============================] - 220s 77ms/step - loss: 0.3365 - accuracy: 0.8808 - val_loss: 0.6192 - val_accuracy: 0.8167\n",
            "Epoch 5/10\n",
            "2841/2841 [==============================] - 220s 77ms/step - loss: 0.3237 - accuracy: 0.8838 - val_loss: 0.6234 - val_accuracy: 0.8186\n",
            "Epoch 6/10\n",
            "2841/2841 [==============================] - 218s 77ms/step - loss: 0.3123 - accuracy: 0.8865 - val_loss: 0.6244 - val_accuracy: 0.8215\n",
            "Epoch 7/10\n",
            "2841/2841 [==============================] - 218s 77ms/step - loss: 0.3032 - accuracy: 0.8891 - val_loss: 0.6372 - val_accuracy: 0.8198\n",
            "Epoch 8/10\n",
            "2841/2841 [==============================] - 219s 77ms/step - loss: 0.2946 - accuracy: 0.8907 - val_loss: 0.6323 - val_accuracy: 0.8200\n",
            "Epoch 9/10\n",
            "2841/2841 [==============================] - 219s 77ms/step - loss: 0.2873 - accuracy: 0.8933 - val_loss: 0.6452 - val_accuracy: 0.8195\n",
            "Epoch 10/10\n",
            "2841/2841 [==============================] - 218s 77ms/step - loss: 0.2806 - accuracy: 0.8948 - val_loss: 0.6484 - val_accuracy: 0.8208\n"
          ]
        }
      ],
      "source": [
        "model_first_letter.compile(optimizer=\"adam\", loss=\"categorical_crossentropy\", metrics=[\"accuracy\"])\n",
        "history = model_first_letter.fit(df_train.RawText, dummies_letters_train, validation_data=( df_val.RawText , dummies_letters_val), epochs=10,batch_size = 64 )\n"
      ]
    },
    {
      "cell_type": "code",
      "execution_count": null,
      "metadata": {
        "colab": {
          "base_uri": "https://localhost:8080/",
          "height": 513
        },
        "id": "-2uGtChqxK6b",
        "outputId": "989458e8-a1fd-4b55-aec2-2623492f84b1"
      },
      "outputs": [
        {
          "data": {
            "image/png": "[encoded data removed]",
            "text/plain": [
              "<Figure size 864x576 with 1 Axes>"
            ]
          },
          "metadata": {
            "needs_background": "light"
          },
          "output_type": "display_data"
        }
      ],
      "source": [
        "# summarize history for accuracy\n",
        "plt.figure(figsize=(12,8))\n",
        "plt.plot(history.history['accuracy'])\n",
        "plt.plot(history.history['val_accuracy'])\n",
        "plt.title('model accuracy')\n",
        "plt.ylabel('accuracy')\n",
        "plt.xlabel('epoch')\n",
        "plt.legend(['train', 'vald'], loc='upper left')\n",
        "plt.show()"
      ]
    },
    {
      "cell_type": "code",
      "execution_count": null,
      "metadata": {
        "colab": {
          "base_uri": "https://localhost:8080/",
          "height": 513
        },
        "id": "VDYXSRq7BUoB",
        "outputId": "0fcad3bb-2252-42a9-b467-925de808dfb5"
      },
      "outputs": [
        {
          "data": {
            "image/png": "[encoded data removed]",
            "text/plain": [
              "<Figure size 864x576 with 1 Axes>"
            ]
          },
          "metadata": {
            "needs_background": "light"
          },
          "output_type": "display_data"
        }
      ],
      "source": [
        "# summarize history for loss\n",
        "plt.figure(figsize = (12,8))\n",
        "plt.plot(history.history['loss'])\n",
        "plt.plot(history.history['val_loss'])\n",
        "plt.title('model loss')\n",
        "plt.ylabel('loss')\n",
        "plt.xlabel('epoch')\n",
        "plt.legend(['train', 'vald'], loc='upper left')\n",
        "plt.show()"
      ]
    },
    {
      "cell_type": "code",
      "execution_count": 42,
      "metadata": {
        "colab": {
          "base_uri": "https://localhost:8080/"
        },
        "id": "U4zuwU_TYF3c",
        "outputId": "b2c58ca3-6df8-484d-a56f-822912dfc109"
      },
      "outputs": [],
      "source": [
        "df_test = pd.read_csv(\"test.csv\")\n",
        "y_test_first_letter = df_test.ICD10.str.slice(0,1)\n",
        "\n",
        "pred_test_first_letter = model_first_letter.predict(df_test.RawText).argmax(axis=1)\n",
        "encoded_letters_test = label_encoder.transform(y_test_first_letter)\n"
      ]
    },
    {
      "cell_type": "code",
      "execution_count": null,
      "metadata": {
        "colab": {
          "base_uri": "https://localhost:8080/"
        },
        "id": "TsXzXLZhicna",
        "outputId": "6fc53580-4252-4a06-9839-3cfd2f193ed5"
      },
      "outputs": [
        {
          "name": "stdout",
          "output_type": "stream",
          "text": [
            "accuracy score :  0.8234333333333334\n",
            "f1 score :  0.8245147650876091\n",
            "recall score :  0.8126541155857997\n"
          ]
        }
      ],
      "source": [
        "print(\"accuracy score : \", accuracy_score(pred_test_first_letter,encoded_letters_test))\n",
        "print(\"f1 score : \" ,f1_score(pred_test_first_letter,encoded_letters_test,average='weighted'))\n",
        "print(\"recall score : \", recall_score(pred_test_first_letter,encoded_letters_test,average='macro'))"
      ]
    },
    {
      "cell_type": "markdown",
      "metadata": {
        "id": "JjZRzMH6YF3g"
      },
      "source": [
        "# Partie 3 "
      ]
    },
    {
      "cell_type": "code",
      "execution_count": 19,
      "metadata": {
        "id": "FMBPzZLsYF3g"
      },
      "outputs": [],
      "source": [
        "#Encodage des labels \n",
        "\n",
        "label_encoder_2 = LabelEncoder()\n",
        "\n",
        "labels_to_predict = list(set(df_train.ICD10))"
      ]
    },
    {
      "cell_type": "code",
      "execution_count": 20,
      "metadata": {
        "id": "IT-YCfkAjiT2"
      },
      "outputs": [],
      "source": [
        "labels_with_unknown = labels_to_predict.copy()"
      ]
    },
    {
      "cell_type": "code",
      "execution_count": 21,
      "metadata": {
        "id": "eNcPNk78kA3X"
      },
      "outputs": [],
      "source": [
        "labels_with_unknown.append(\"Unknown\")"
      ]
    },
    {
      "cell_type": "code",
      "execution_count": 22,
      "metadata": {
        "colab": {
          "base_uri": "https://localhost:8080/"
        },
        "id": "gX8kZ01-kMA2",
        "outputId": "c5ad6da4-d246-49d4-921e-6b7d38f441d7"
      },
      "outputs": [
        {
          "data": {
            "text/plain": [
              "array([8058, 2449, 4742, ..., 7211, 8984, 8175])"
            ]
          },
          "execution_count": 22,
          "metadata": {},
          "output_type": "execute_result"
        }
      ],
      "source": [
        "label_encoder_2.fit_transform(labels_with_unknown)"
      ]
    },
    {
      "cell_type": "code",
      "execution_count": 23,
      "metadata": {
        "id": "X3p7bMDOjfcA"
      },
      "outputs": [],
      "source": [
        "encoded_all_letters_train = label_encoder_2.transform(df_train.ICD10)\n",
        "dummies_all_letters_train = tf.keras.utils.to_categorical(encoded_all_letters_train)"
      ]
    },
    {
      "cell_type": "code",
      "execution_count": 24,
      "metadata": {
        "id": "rHaT2C2wlkpI"
      },
      "outputs": [],
      "source": [
        "new_labels_val = []\n",
        "for label_val in df_val.ICD10.values : \n",
        "  if label_val in labels_to_predict :\n",
        "    new_labels_val.append(label_val)\n",
        "  else :\n",
        "    new_labels_val.append(\"Unknown\")\n",
        "    \n",
        "encoded_all_letters_val = label_encoder_2.transform(new_labels_val)\n",
        "dummies_all_letters_val = tf.keras.utils.to_categorical(encoded_all_letters_val,  num_classes = 9249)\n",
        "\n"
      ]
    },
    {
      "cell_type": "code",
      "execution_count": 25,
      "metadata": {
        "colab": {
          "base_uri": "https://localhost:8080/"
        },
        "id": "5wINvCkO3ORw",
        "outputId": "8e23f265-1cef-4682-81e3-d898747a6bdd"
      },
      "outputs": [
        {
          "data": {
            "text/plain": [
              "(181763, 9249)"
            ]
          },
          "execution_count": 25,
          "metadata": {},
          "output_type": "execute_result"
        }
      ],
      "source": [
        "dummies_all_letters_train.shape"
      ]
    },
    {
      "cell_type": "code",
      "execution_count": null,
      "metadata": {
        "id": "JrKVm7KnYF3i"
      },
      "outputs": [],
      "source": [
        "model_all_letter = tf.keras.Sequential([\n",
        "    vectorize_layer,\n",
        "    tf.keras.layers.Embedding(input_dim=35602, output_dim=150, mask_zero = True),\n",
        "    tf.keras.layers.Conv1D(32, 3,activation=\"relu\", input_shape = (None, 128)),\n",
        "    tf.keras.layers.Bidirectional(tf.keras.layers.LSTM(128, dropout = 0.1, return_sequences=True)),\n",
        "    tf.keras.layers.GlobalMaxPooling1D(),\n",
        "    tf.keras.layers.Dense(64),\n",
        "    tf.keras.layers.Dense(units=9249, activation = \"softmax\")\n",
        "])"
      ]
    },
    {
      "cell_type": "code",
      "execution_count": null,
      "metadata": {
        "colab": {
          "base_uri": "https://localhost:8080/"
        },
        "id": "tviOtl8jYF3j",
        "outputId": "75c9af85-0e34-42b8-9b4f-a828cf5128d5"
      },
      "outputs": [
        {
          "name": "stdout",
          "output_type": "stream",
          "text": [
            "Epoch 1/10\n",
            "2841/2841 [==============================] - 281s 98ms/step - loss: 7.1082 - accuracy: 0.0432 - val_loss: 5.7825 - val_accuracy: 0.1139\n",
            "Epoch 2/10\n",
            "2841/2841 [==============================] - 276s 97ms/step - loss: 4.7038 - accuracy: 0.1985 - val_loss: 4.1536 - val_accuracy: 0.2856\n",
            "Epoch 3/10\n",
            "2841/2841 [==============================] - 268s 94ms/step - loss: 3.2653 - accuracy: 0.3583 - val_loss: 3.4146 - val_accuracy: 0.3928\n",
            "Epoch 4/10\n",
            "2841/2841 [==============================] - 268s 94ms/step - loss: 2.4507 - accuracy: 0.4723 - val_loss: 3.1001 - val_accuracy: 0.4527\n",
            "Epoch 5/10\n",
            "2841/2841 [==============================] - 307s 108ms/step - loss: 1.9649 - accuracy: 0.5510 - val_loss: 2.9840 - val_accuracy: 0.4940\n",
            "Epoch 6/10\n",
            "2841/2841 [==============================] - 309s 109ms/step - loss: 1.6400 - accuracy: 0.6087 - val_loss: 2.9109 - val_accuracy: 0.5126\n",
            "Epoch 7/10\n",
            "2841/2841 [==============================] - 309s 109ms/step - loss: 1.4118 - accuracy: 0.6514 - val_loss: 2.8744 - val_accuracy: 0.5328\n",
            "Epoch 8/10\n",
            "2841/2841 [==============================] - 309s 109ms/step - loss: 1.2489 - accuracy: 0.6841 - val_loss: 2.8842 - val_accuracy: 0.5431\n",
            "Epoch 9/10\n",
            "2841/2841 [==============================] - 296s 104ms/step - loss: 1.1258 - accuracy: 0.7086 - val_loss: 2.9048 - val_accuracy: 0.5538\n",
            "Epoch 10/10\n",
            "2841/2841 [==============================] - 288s 101ms/step - loss: 1.0293 - accuracy: 0.7286 - val_loss: 2.8829 - val_accuracy: 0.5574\n"
          ]
        }
      ],
      "source": [
        "model_all_letter.compile(optimizer=\"adam\", loss=\"categorical_crossentropy\", metrics=[\"accuracy\"])\n",
        "history = model_all_letter.fit(df_train.RawText, dummies_all_letters_train,validation_data=( df_val.RawText , dummies_all_letters_val), batch_size = 64, epochs= 10 )"
      ]
    },
    {
      "cell_type": "code",
      "execution_count": null,
      "metadata": {
        "id": "Vr4HBEh-cRoG",
        "outputId": "bfd958e4-b885-4fb0-b369-f78ab10ca631"
      },
      "outputs": [
        {
          "name": "stdout",
          "output_type": "stream",
          "text": [
            "accuracy score :  0.8088059726126879\n",
            "f1 score :  0.814076241609965\n",
            "recall score :  0.7992341852610686\n"
          ]
        },
        {
          "name": "stderr",
          "output_type": "stream",
          "text": [
            "/Users/akhalbous/miniconda3/lib/python3.9/site-packages/sklearn/metrics/_classification.py:1308: UndefinedMetricWarning: Recall is ill-defined and being set to 0.0 in labels with no true samples. Use `zero_division` parameter to control this behavior.\n",
            "  _warn_prf(average, modifier, msg_start, len(result))\n"
          ]
        }
      ],
      "source": [
        "pred_train_all_letter = model_all_letter.predict(df_train.RawText).argmax(axis=1)\n",
        "print(\"accuracy score : \", accuracy_score(pred_train_all_letter ,encoded_all_letters_train))\n",
        "print(\"f1 score : \" ,f1_score(pred_train_all_letter ,encoded_all_letters_train,average='weighted'))\n",
        "print(\"recall score : \", recall_score(pred_train_all_letter ,encoded_all_letters_train, average='macro'))"
      ]
    },
    {
      "cell_type": "code",
      "execution_count": null,
      "metadata": {
        "id": "XT2zy9u7cRoG",
        "outputId": "e367fca0-dbc5-4979-eb73-c67e6ebd741d"
      },
      "outputs": [
        {
          "name": "stdout",
          "output_type": "stream",
          "text": [
            "accuracy score :  0.5527666666666666\n",
            "f1 score :  0.5627254181043442\n",
            "recall score :  0.42384708451286696\n"
          ]
        },
        {
          "name": "stderr",
          "output_type": "stream",
          "text": [
            "/Users/akhalbous/miniconda3/lib/python3.9/site-packages/sklearn/metrics/_classification.py:1308: UndefinedMetricWarning: Recall is ill-defined and being set to 0.0 in labels with no true samples. Use `zero_division` parameter to control this behavior.\n",
            "  _warn_prf(average, modifier, msg_start, len(result))\n"
          ]
        }
      ],
      "source": [
        "pred_val_all_letter = model_all_letter.predict(df_val.RawText).argmax(axis=1)\n",
        "print(\"accuracy score : \", accuracy_score(pred_val_all_letter ,encoded_all_letters_val))\n",
        "print(\"f1 score : \" ,f1_score(pred_val_all_letter ,encoded_all_letters_val,average='weighted'))\n",
        "print(\"recall score : \", recall_score(pred_val_all_letter ,encoded_all_letters_val, average='macro'))"
      ]
    },
    {
      "cell_type": "code",
      "execution_count": 50,
      "metadata": {
        "id": "qgsERBUBcRoH"
      },
      "outputs": [],
      "source": [
        "df_test = pd.read_csv(\"test.csv\")\n",
        "new_labels_test = []\n",
        "for label_test in df_test.ICD10.values : \n",
        "  if label_test in labels_to_predict :\n",
        "    new_labels_test.append(label_test)\n",
        "  else :\n",
        "    new_labels_test.append(\"Unknown\")\n",
        "    \n",
        "encoded_all_letters_test = label_encoder_2.transform(new_labels_test)"
      ]
    },
    {
      "cell_type": "code",
      "execution_count": null,
      "metadata": {
        "id": "g0ff7KVncRoH",
        "outputId": "1cb846fe-223a-433d-b1ae-8a84feb46c1e"
      },
      "outputs": [
        {
          "name": "stdout",
          "output_type": "stream",
          "text": [
            "accuracy score :  0.5488333333333333\n",
            "f1 score :  0.5581020461112427\n",
            "recall score :  0.42924567725787527\n"
          ]
        },
        {
          "name": "stderr",
          "output_type": "stream",
          "text": [
            "/Users/akhalbous/miniconda3/lib/python3.9/site-packages/sklearn/metrics/_classification.py:1308: UndefinedMetricWarning: Recall is ill-defined and being set to 0.0 in labels with no true samples. Use `zero_division` parameter to control this behavior.\n",
            "  _warn_prf(average, modifier, msg_start, len(result))\n"
          ]
        }
      ],
      "source": [
        "pred_test_all_letter = model_all_letter.predict(df_test.RawText).argmax(axis=1)\n",
        "print(\"accuracy score : \", accuracy_score(pred_test_all_letter ,encoded_all_letters_test))\n",
        "print(\"f1 score : \" ,f1_score(pred_test_all_letter ,encoded_all_letters_test,average='weighted'))\n",
        "print(\"recall score : \", recall_score(pred_test_all_letter ,encoded_all_letters_test, average='macro'))"
      ]
    },
    {
      "cell_type": "code",
      "execution_count": null,
      "metadata": {
        "colab": {
          "base_uri": "https://localhost:8080/",
          "height": 513
        },
        "id": "HXvVI0G2DztA",
        "outputId": "39d819a3-5ad7-4ac8-cdb1-e65e811355c3"
      },
      "outputs": [
        {
          "data": {
            "image/png": "[encoded data removed]",
            "text/plain": [
              "<Figure size 864x576 with 1 Axes>"
            ]
          },
          "metadata": {
            "needs_background": "light"
          },
          "output_type": "display_data"
        }
      ],
      "source": [
        "# summarize history for accuracy\n",
        "plt.figure(figsize=(12,8))\n",
        "plt.plot(history.history['accuracy'])\n",
        "plt.plot(history.history['val_accuracy'])\n",
        "plt.title('model accuracy')\n",
        "plt.ylabel('accuracy')\n",
        "plt.xlabel('epoch')\n",
        "plt.legend(['train', 'vald'], loc='upper left')\n",
        "plt.show()"
      ]
    },
    {
      "cell_type": "code",
      "execution_count": null,
      "metadata": {
        "colab": {
          "base_uri": "https://localhost:8080/",
          "height": 513
        },
        "id": "Ze1dwXTgD9w2",
        "outputId": "ca46e1dc-267e-47c0-f9e0-6649424cc1d8"
      },
      "outputs": [
        {
          "data": {
            "image/png": "[encoded data removed]",
            "text/plain": [
              "<Figure size 864x576 with 1 Axes>"
            ]
          },
          "metadata": {
            "needs_background": "light"
          },
          "output_type": "display_data"
        }
      ],
      "source": [
        "# summarize history for loss\n",
        "plt.figure(figsize = (12,8))\n",
        "plt.plot(history.history['loss'])\n",
        "plt.plot(history.history['val_loss'])\n",
        "plt.title('model loss')\n",
        "plt.ylabel('loss')\n",
        "plt.xlabel('epoch')\n",
        "plt.legend(['train', 'vald'], loc='upper left')\n",
        "plt.show()"
      ]
    },
    {
      "cell_type": "code",
      "execution_count": null,
      "metadata": {
        "id": "EgkaJcnXF4Gf"
      },
      "outputs": [],
      "source": [
        "length = len(pred_test_all_letter)\n",
        "pred_lab = list(label_encoder_2.inverse_transform(pred_test_all_letter ))"
      ]
    },
    {
      "cell_type": "code",
      "execution_count": null,
      "metadata": {
        "id": "fQQrgcMsJyh4"
      },
      "outputs": [],
      "source": [
        "def calculate_acc(data_length,predicted,label,compare_length):\n",
        "  correct = 0\n",
        "  for i in range(data_length):\n",
        "    if predicted[i][:compare_length] in label[i][:compare_length]:\n",
        "      correct+=1\n",
        "  return correct/data_length"
      ]
    },
    {
      "cell_type": "code",
      "execution_count": null,
      "metadata": {
        "id": "NcxuqUh3cRoH",
        "outputId": "c594970a-365c-4033-9db7-2563d595643b"
      },
      "outputs": [
        {
          "data": {
            "text/plain": [
              "0.7670666666666667"
            ]
          },
          "execution_count": 106,
          "metadata": {},
          "output_type": "execute_result"
        }
      ],
      "source": [
        "acc_one_letter = calculate_acc(length,pred_lab,df_test.ICD10,1)\n",
        "acc_one_letter"
      ]
    },
    {
      "cell_type": "code",
      "execution_count": null,
      "metadata": {
        "id": "qY6uDlaecRoH",
        "outputId": "0e0b0aaf-e294-4722-b1fa-87de873cbbc7"
      },
      "outputs": [
        {
          "data": {
            "text/plain": [
              "0.6963333333333334"
            ]
          },
          "execution_count": 107,
          "metadata": {},
          "output_type": "execute_result"
        }
      ],
      "source": [
        "acc_two_letter = calculate_acc(length,pred_lab,df_test.ICD10,2)\n",
        "acc_two_letter"
      ]
    },
    {
      "cell_type": "code",
      "execution_count": null,
      "metadata": {
        "id": "yqMSQiIlcRoH",
        "outputId": "3d2757ca-6b55-4bc3-f4de-a51f10dd7287"
      },
      "outputs": [
        {
          "data": {
            "text/plain": [
              "0.6353666666666666"
            ]
          },
          "execution_count": 108,
          "metadata": {},
          "output_type": "execute_result"
        }
      ],
      "source": [
        "acc_three_letter = calculate_acc(length,pred_lab,df_test.ICD10,3)\n",
        "acc_three_letter"
      ]
    },
    {
      "cell_type": "markdown",
      "metadata": {
        "id": "yq5Trd9Wcma4"
      },
      "source": [
        "# Partie 5"
      ]
    },
    {
      "cell_type": "markdown",
      "metadata": {},
      "source": [
        "## Lematization"
      ]
    },
    {
      "cell_type": "code",
      "execution_count": 30,
      "metadata": {
        "colab": {
          "base_uri": "https://localhost:8080/"
        },
        "id": "Z55SBD5jcRoH",
        "outputId": "225bf86e-a335-4017-87fd-6480257f69fd"
      },
      "outputs": [
        {
          "name": "stdout",
          "output_type": "stream",
          "text": [
            "Collecting fr-core-news-md==3.2.0\n",
            "  Downloading https://github.com/explosion/spacy-models/releases/download/fr_core_news_md-3.2.0/fr_core_news_md-3.2.0-py3-none-any.whl (46.9 MB)\n",
            "\u001b[K     |████████████████████████████████| 46.9 MB 71 kB/s eta 0:00:012    |███▎                            | 4.8 MB 94 kB/s eta 0:07:25     |█████▉                          | 8.6 MB 26 kB/s eta 0:24:13\n",
            "\u001b[?25hRequirement already satisfied: spacy<3.3.0,>=3.2.0 in /Users/akhalbous/miniconda3/lib/python3.9/site-packages (from fr-core-news-md==3.2.0) (3.2.1)\n",
            "Requirement already satisfied: spacy-loggers<2.0.0,>=1.0.0 in /Users/akhalbous/miniconda3/lib/python3.9/site-packages (from spacy<3.3.0,>=3.2.0->fr-core-news-md==3.2.0) (1.0.1)\n",
            "Requirement already satisfied: langcodes<4.0.0,>=3.2.0 in /Users/akhalbous/miniconda3/lib/python3.9/site-packages (from spacy<3.3.0,>=3.2.0->fr-core-news-md==3.2.0) (3.3.0)\n",
            "Requirement already satisfied: setuptools in /Users/akhalbous/miniconda3/lib/python3.9/site-packages (from spacy<3.3.0,>=3.2.0->fr-core-news-md==3.2.0) (52.0.0.post20210125)\n",
            "Requirement already satisfied: numpy>=1.15.0 in /Users/akhalbous/miniconda3/lib/python3.9/site-packages (from spacy<3.3.0,>=3.2.0->fr-core-news-md==3.2.0) (1.21.4)\n",
            "Requirement already satisfied: packaging>=20.0 in /Users/akhalbous/miniconda3/lib/python3.9/site-packages (from spacy<3.3.0,>=3.2.0->fr-core-news-md==3.2.0) (21.3)\n",
            "Requirement already satisfied: thinc<8.1.0,>=8.0.12 in /Users/akhalbous/miniconda3/lib/python3.9/site-packages (from spacy<3.3.0,>=3.2.0->fr-core-news-md==3.2.0) (8.0.13)\n",
            "Requirement already satisfied: pydantic!=1.8,!=1.8.1,<1.9.0,>=1.7.4 in /Users/akhalbous/miniconda3/lib/python3.9/site-packages (from spacy<3.3.0,>=3.2.0->fr-core-news-md==3.2.0) (1.8.2)\n",
            "Requirement already satisfied: pathy>=0.3.5 in /Users/akhalbous/miniconda3/lib/python3.9/site-packages (from spacy<3.3.0,>=3.2.0->fr-core-news-md==3.2.0) (0.6.1)\n",
            "Requirement already satisfied: murmurhash<1.1.0,>=0.28.0 in /Users/akhalbous/miniconda3/lib/python3.9/site-packages (from spacy<3.3.0,>=3.2.0->fr-core-news-md==3.2.0) (1.0.6)\n",
            "Requirement already satisfied: jinja2 in /Users/akhalbous/miniconda3/lib/python3.9/site-packages (from spacy<3.3.0,>=3.2.0->fr-core-news-md==3.2.0) (3.0.3)\n",
            "Requirement already satisfied: wasabi<1.1.0,>=0.8.1 in /Users/akhalbous/miniconda3/lib/python3.9/site-packages (from spacy<3.3.0,>=3.2.0->fr-core-news-md==3.2.0) (0.9.0)\n",
            "Requirement already satisfied: tqdm<5.0.0,>=4.38.0 in /Users/akhalbous/miniconda3/lib/python3.9/site-packages (from spacy<3.3.0,>=3.2.0->fr-core-news-md==3.2.0) (4.61.2)\n",
            "Requirement already satisfied: catalogue<2.1.0,>=2.0.6 in /Users/akhalbous/miniconda3/lib/python3.9/site-packages (from spacy<3.3.0,>=3.2.0->fr-core-news-md==3.2.0) (2.0.6)\n",
            "Requirement already satisfied: typer<0.5.0,>=0.3.0 in /Users/akhalbous/miniconda3/lib/python3.9/site-packages (from spacy<3.3.0,>=3.2.0->fr-core-news-md==3.2.0) (0.4.0)\n",
            "Requirement already satisfied: blis<0.8.0,>=0.4.0 in /Users/akhalbous/miniconda3/lib/python3.9/site-packages (from spacy<3.3.0,>=3.2.0->fr-core-news-md==3.2.0) (0.7.5)\n",
            "Requirement already satisfied: spacy-legacy<3.1.0,>=3.0.8 in /Users/akhalbous/miniconda3/lib/python3.9/site-packages (from spacy<3.3.0,>=3.2.0->fr-core-news-md==3.2.0) (3.0.8)\n",
            "Requirement already satisfied: cymem<2.1.0,>=2.0.2 in /Users/akhalbous/miniconda3/lib/python3.9/site-packages (from spacy<3.3.0,>=3.2.0->fr-core-news-md==3.2.0) (2.0.6)\n",
            "Requirement already satisfied: srsly<3.0.0,>=2.4.1 in /Users/akhalbous/miniconda3/lib/python3.9/site-packages (from spacy<3.3.0,>=3.2.0->fr-core-news-md==3.2.0) (2.4.2)\n",
            "Requirement already satisfied: preshed<3.1.0,>=3.0.2 in /Users/akhalbous/miniconda3/lib/python3.9/site-packages (from spacy<3.3.0,>=3.2.0->fr-core-news-md==3.2.0) (3.0.6)\n",
            "Requirement already satisfied: requests<3.0.0,>=2.13.0 in /Users/akhalbous/miniconda3/lib/python3.9/site-packages (from spacy<3.3.0,>=3.2.0->fr-core-news-md==3.2.0) (2.25.1)\n",
            "Requirement already satisfied: pyparsing!=3.0.5,>=2.0.2 in /Users/akhalbous/miniconda3/lib/python3.9/site-packages (from packaging>=20.0->spacy<3.3.0,>=3.2.0->fr-core-news-md==3.2.0) (3.0.6)\n",
            "Requirement already satisfied: smart-open<6.0.0,>=5.0.0 in /Users/akhalbous/miniconda3/lib/python3.9/site-packages (from pathy>=0.3.5->spacy<3.3.0,>=3.2.0->fr-core-news-md==3.2.0) (5.2.1)\n",
            "Requirement already satisfied: typing-extensions>=3.7.4.3 in /Users/akhalbous/miniconda3/lib/python3.9/site-packages (from pydantic!=1.8,!=1.8.1,<1.9.0,>=1.7.4->spacy<3.3.0,>=3.2.0->fr-core-news-md==3.2.0) (4.0.1)\n",
            "Requirement already satisfied: idna<3,>=2.5 in /Users/akhalbous/miniconda3/lib/python3.9/site-packages (from requests<3.0.0,>=2.13.0->spacy<3.3.0,>=3.2.0->fr-core-news-md==3.2.0) (2.10)\n",
            "Requirement already satisfied: certifi>=2017.4.17 in /Users/akhalbous/miniconda3/lib/python3.9/site-packages (from requests<3.0.0,>=2.13.0->spacy<3.3.0,>=3.2.0->fr-core-news-md==3.2.0) (2021.10.8)\n",
            "Requirement already satisfied: urllib3<1.27,>=1.21.1 in /Users/akhalbous/miniconda3/lib/python3.9/site-packages (from requests<3.0.0,>=2.13.0->spacy<3.3.0,>=3.2.0->fr-core-news-md==3.2.0) (1.26.6)\n",
            "Requirement already satisfied: chardet<5,>=3.0.2 in /Users/akhalbous/miniconda3/lib/python3.9/site-packages (from requests<3.0.0,>=2.13.0->spacy<3.3.0,>=3.2.0->fr-core-news-md==3.2.0) (4.0.0)\n",
            "Requirement already satisfied: click<9.0.0,>=7.1.1 in /Users/akhalbous/miniconda3/lib/python3.9/site-packages (from typer<0.5.0,>=0.3.0->spacy<3.3.0,>=3.2.0->fr-core-news-md==3.2.0) (8.0.3)\n",
            "Requirement already satisfied: MarkupSafe>=2.0 in /Users/akhalbous/miniconda3/lib/python3.9/site-packages (from jinja2->spacy<3.3.0,>=3.2.0->fr-core-news-md==3.2.0) (2.0.1)\n",
            "Installing collected packages: fr-core-news-md\n",
            "Successfully installed fr-core-news-md-3.2.0\n",
            "\u001b[38;5;2m✔ Download and installation successful\u001b[0m\n",
            "You can now load the package via spacy.load('fr_core_news_md')\n"
          ]
        }
      ],
      "source": [
        "!python3 -m spacy download fr_core_news_md"
      ]
    },
    {
      "cell_type": "code",
      "execution_count": 28,
      "metadata": {},
      "outputs": [
        {
          "name": "stdout",
          "output_type": "stream",
          "text": [
            "Collecting spacy\n",
            "  Downloading spacy-3.2.1-cp39-cp39-macosx_10_9_x86_64.whl (6.3 MB)\n",
            "\u001b[K     |████████████████████████████████| 6.3 MB 72 kB/s eta 0:00:011\n",
            "\u001b[?25hCollecting spacy-legacy<3.1.0,>=3.0.8\n",
            "  Downloading spacy_legacy-3.0.8-py2.py3-none-any.whl (14 kB)\n",
            "Collecting pydantic!=1.8,!=1.8.1,<1.9.0,>=1.7.4\n",
            "  Downloading pydantic-1.8.2-cp39-cp39-macosx_10_9_x86_64.whl (2.7 MB)\n",
            "\u001b[K     |████████████████████████████████| 2.7 MB 163 kB/s eta 0:00:01\n",
            "\u001b[?25hCollecting wasabi<1.1.0,>=0.8.1\n",
            "  Downloading wasabi-0.9.0-py3-none-any.whl (25 kB)\n",
            "Collecting preshed<3.1.0,>=3.0.2\n",
            "  Downloading preshed-3.0.6-cp39-cp39-macosx_10_9_x86_64.whl (106 kB)\n",
            "\u001b[K     |████████████████████████████████| 106 kB 86 kB/s eta 0:00:01\n",
            "\u001b[?25hCollecting cymem<2.1.0,>=2.0.2\n",
            "  Downloading cymem-2.0.6-cp39-cp39-macosx_10_9_x86_64.whl (32 kB)\n",
            "Requirement already satisfied: numpy>=1.15.0 in /Users/akhalbous/miniconda3/lib/python3.9/site-packages (from spacy) (1.21.4)\n",
            "Collecting srsly<3.0.0,>=2.4.1\n",
            "  Downloading srsly-2.4.2-cp39-cp39-macosx_10_9_x86_64.whl (452 kB)\n",
            "\u001b[K     |████████████████████████████████| 452 kB 84 kB/s eta 0:00:011\n",
            "\u001b[?25hCollecting blis<0.8.0,>=0.4.0\n",
            "  Downloading blis-0.7.5-cp39-cp39-macosx_10_9_x86_64.whl (5.8 MB)\n",
            "\u001b[K     |████████████████████████████████| 5.8 MB 66 kB/s eta 0:00:015\n",
            "\u001b[?25hCollecting langcodes<4.0.0,>=3.2.0\n",
            "  Downloading langcodes-3.3.0-py3-none-any.whl (181 kB)\n",
            "\u001b[K     |████████████████████████████████| 181 kB 83 kB/s eta 0:00:01\n",
            "\u001b[?25hRequirement already satisfied: tqdm<5.0.0,>=4.38.0 in /Users/akhalbous/miniconda3/lib/python3.9/site-packages (from spacy) (4.61.2)\n",
            "Collecting pathy>=0.3.5\n",
            "  Downloading pathy-0.6.1-py3-none-any.whl (42 kB)\n",
            "\u001b[K     |████████████████████████████████| 42 kB 51 kB/s eta 0:00:01\n",
            "\u001b[?25hCollecting thinc<8.1.0,>=8.0.12\n",
            "  Downloading thinc-8.0.13-cp39-cp39-macosx_10_9_x86_64.whl (615 kB)\n",
            "\u001b[K     |████████████████████████████████| 615 kB 46 kB/s eta 0:00:01\n",
            "\u001b[?25hCollecting catalogue<2.1.0,>=2.0.6\n",
            "  Downloading catalogue-2.0.6-py3-none-any.whl (17 kB)\n",
            "Requirement already satisfied: setuptools in /Users/akhalbous/miniconda3/lib/python3.9/site-packages (from spacy) (52.0.0.post20210125)\n",
            "Requirement already satisfied: requests<3.0.0,>=2.13.0 in /Users/akhalbous/miniconda3/lib/python3.9/site-packages (from spacy) (2.25.1)\n",
            "Collecting murmurhash<1.1.0,>=0.28.0\n",
            "  Downloading murmurhash-1.0.6-cp39-cp39-macosx_10_9_x86_64.whl (18 kB)\n",
            "Requirement already satisfied: packaging>=20.0 in /Users/akhalbous/miniconda3/lib/python3.9/site-packages (from spacy) (21.3)\n",
            "Collecting spacy-loggers<2.0.0,>=1.0.0\n",
            "  Downloading spacy_loggers-1.0.1-py3-none-any.whl (7.0 kB)\n",
            "Collecting typer<0.5.0,>=0.3.0\n",
            "  Downloading typer-0.4.0-py3-none-any.whl (27 kB)\n",
            "Collecting jinja2\n",
            "  Downloading Jinja2-3.0.3-py3-none-any.whl (133 kB)\n",
            "\u001b[K     |████████████████████████████████| 133 kB 118 kB/s eta 0:00:01\n",
            "\u001b[?25hRequirement already satisfied: pyparsing!=3.0.5,>=2.0.2 in /Users/akhalbous/miniconda3/lib/python3.9/site-packages (from packaging>=20.0->spacy) (3.0.6)\n",
            "Collecting smart-open<6.0.0,>=5.0.0\n",
            "  Downloading smart_open-5.2.1-py3-none-any.whl (58 kB)\n",
            "\u001b[K     |████████████████████████████████| 58 kB 95 kB/s eta 0:00:01\n",
            "\u001b[?25hRequirement already satisfied: typing-extensions>=3.7.4.3 in /Users/akhalbous/miniconda3/lib/python3.9/site-packages (from pydantic!=1.8,!=1.8.1,<1.9.0,>=1.7.4->spacy) (4.0.1)\n",
            "Requirement already satisfied: certifi>=2017.4.17 in /Users/akhalbous/miniconda3/lib/python3.9/site-packages (from requests<3.0.0,>=2.13.0->spacy) (2021.10.8)\n",
            "Requirement already satisfied: chardet<5,>=3.0.2 in /Users/akhalbous/miniconda3/lib/python3.9/site-packages (from requests<3.0.0,>=2.13.0->spacy) (4.0.0)\n",
            "Requirement already satisfied: idna<3,>=2.5 in /Users/akhalbous/miniconda3/lib/python3.9/site-packages (from requests<3.0.0,>=2.13.0->spacy) (2.10)\n",
            "Requirement already satisfied: urllib3<1.27,>=1.21.1 in /Users/akhalbous/miniconda3/lib/python3.9/site-packages (from requests<3.0.0,>=2.13.0->spacy) (1.26.6)\n",
            "Collecting click<9.0.0,>=7.1.1\n",
            "  Downloading click-8.0.3-py3-none-any.whl (97 kB)\n",
            "\u001b[K     |████████████████████████████████| 97 kB 52 kB/s eta 0:00:01\n",
            "\u001b[?25hCollecting MarkupSafe>=2.0\n",
            "  Downloading MarkupSafe-2.0.1-cp39-cp39-macosx_10_9_x86_64.whl (13 kB)\n",
            "Installing collected packages: murmurhash, cymem, click, catalogue, wasabi, typer, srsly, smart-open, pydantic, preshed, MarkupSafe, blis, thinc, spacy-loggers, spacy-legacy, pathy, langcodes, jinja2, spacy\n",
            "Successfully installed MarkupSafe-2.0.1 blis-0.7.5 catalogue-2.0.6 click-8.0.3 cymem-2.0.6 jinja2-3.0.3 langcodes-3.3.0 murmurhash-1.0.6 pathy-0.6.1 preshed-3.0.6 pydantic-1.8.2 smart-open-5.2.1 spacy-3.2.1 spacy-legacy-3.0.8 spacy-loggers-1.0.1 srsly-2.4.2 thinc-8.0.13 typer-0.4.0 wasabi-0.9.0\n"
          ]
        }
      ],
      "source": [
        "!pip3 install spacy"
      ]
    },
    {
      "cell_type": "code",
      "execution_count": 31,
      "metadata": {
        "id": "ezyJbovMcoBv"
      },
      "outputs": [],
      "source": [
        "import spacy\n",
        "\n",
        "nlp = spacy.load('fr_core_news_md')\n"
      ]
    },
    {
      "cell_type": "code",
      "execution_count": 32,
      "metadata": {
        "colab": {
          "base_uri": "https://localhost:8080/",
          "height": 349
        },
        "id": "qYZOTdjkeOpw",
        "outputId": "aaca35d0-3aa3-431c-fafd-66319224bc47"
      },
      "outputs": [
        {
          "data": {
            "text/html": [
              "<div>\n",
              "<style scoped>\n",
              "    .dataframe tbody tr th:only-of-type {\n",
              "        vertical-align: middle;\n",
              "    }\n",
              "\n",
              "    .dataframe tbody tr th {\n",
              "        vertical-align: top;\n",
              "    }\n",
              "\n",
              "    .dataframe thead th {\n",
              "        text-align: right;\n",
              "    }\n",
              "</style>\n",
              "<table border=\"1\" class=\"dataframe\">\n",
              "  <thead>\n",
              "    <tr style=\"text-align: right;\">\n",
              "      <th></th>\n",
              "      <th>RawText</th>\n",
              "      <th>ICD10</th>\n",
              "    </tr>\n",
              "  </thead>\n",
              "  <tbody>\n",
              "    <tr>\n",
              "      <th>0</th>\n",
              "      <td>thrombose veineux profond cuisse gauche</td>\n",
              "      <td>I802</td>\n",
              "    </tr>\n",
              "    <tr>\n",
              "      <th>1</th>\n",
              "      <td>hémiplégie post-traumatiqu</td>\n",
              "      <td>S099</td>\n",
              "    </tr>\n",
              "    <tr>\n",
              "      <th>2</th>\n",
              "      <td>masculinisation avec hyperplasie surrénal</td>\n",
              "      <td>E250</td>\n",
              "    </tr>\n",
              "    <tr>\n",
              "      <th>3</th>\n",
              "      <td>hyperammoniémie cérébral</td>\n",
              "      <td>E722</td>\n",
              "    </tr>\n",
              "    <tr>\n",
              "      <th>4</th>\n",
              "      <td>fistule artérioveineus congénital périphérique...</td>\n",
              "      <td>Q257</td>\n",
              "    </tr>\n",
              "    <tr>\n",
              "      <th>...</th>\n",
              "      <td>...</td>\n",
              "      <td>...</td>\n",
              "    </tr>\n",
              "    <tr>\n",
              "      <th>181758</th>\n",
              "      <td>Prématurité 32 sa</td>\n",
              "      <td>P073</td>\n",
              "    </tr>\n",
              "    <tr>\n",
              "      <th>181759</th>\n",
              "      <td>rétinopathie e14.3 malnutrition e12.3</td>\n",
              "      <td>H360</td>\n",
              "    </tr>\n",
              "    <tr>\n",
              "      <th>181760</th>\n",
              "      <td>métastase pariétal</td>\n",
              "      <td>C798</td>\n",
              "    </tr>\n",
              "    <tr>\n",
              "      <th>181761</th>\n",
              "      <td>lésion cutané de le pinta</td>\n",
              "      <td>A673</td>\n",
              "    </tr>\n",
              "    <tr>\n",
              "      <th>181762</th>\n",
              "      <td>anémie par carence 2 , 3 diphospho - glycérate...</td>\n",
              "      <td>D552</td>\n",
              "    </tr>\n",
              "  </tbody>\n",
              "</table>\n",
              "<p>181763 rows × 2 columns</p>\n",
              "</div>"
            ],
            "text/plain": [
              "                                                  RawText ICD10\n",
              "0                 thrombose veineux profond cuisse gauche  I802\n",
              "1                              hémiplégie post-traumatiqu  S099\n",
              "2               masculinisation avec hyperplasie surrénal  E250\n",
              "3                                hyperammoniémie cérébral  E722\n",
              "4       fistule artérioveineus congénital périphérique...  Q257\n",
              "...                                                   ...   ...\n",
              "181758                                  Prématurité 32 sa  P073\n",
              "181759              rétinopathie e14.3 malnutrition e12.3  H360\n",
              "181760                                 métastase pariétal  C798\n",
              "181761                          lésion cutané de le pinta  A673\n",
              "181762  anémie par carence 2 , 3 diphospho - glycérate...  D552\n",
              "\n",
              "[181763 rows x 2 columns]"
            ]
          },
          "execution_count": 32,
          "metadata": {},
          "output_type": "execute_result"
        }
      ],
      "source": [
        "def lemmatize_sentence(df):\n",
        "  s = df\n",
        "  doc = nlp(s)\n",
        "  l = \" \".join([token.lemma_ for token in doc])\n",
        "  return l\n",
        "df_train2 = df_train.copy()\n",
        "\n",
        "df_train2[\"RawText\"]= df_train2.RawText.apply(lemmatize_sentence)\n",
        "df_train2"
      ]
    },
    {
      "cell_type": "code",
      "execution_count": 33,
      "metadata": {
        "colab": {
          "base_uri": "https://localhost:8080/",
          "height": 184
        },
        "id": "cUixgBs_tuAU",
        "outputId": "e3fbc51c-8aee-4194-f57f-9a0f5918e92b"
      },
      "outputs": [
        {
          "data": {
            "text/html": [
              "<div>\n",
              "<style scoped>\n",
              "    .dataframe tbody tr th:only-of-type {\n",
              "        vertical-align: middle;\n",
              "    }\n",
              "\n",
              "    .dataframe tbody tr th {\n",
              "        vertical-align: top;\n",
              "    }\n",
              "\n",
              "    .dataframe thead th {\n",
              "        text-align: right;\n",
              "    }\n",
              "</style>\n",
              "<table border=\"1\" class=\"dataframe\">\n",
              "  <thead>\n",
              "    <tr style=\"text-align: right;\">\n",
              "      <th></th>\n",
              "      <th>RawText</th>\n",
              "      <th>ICD10</th>\n",
              "    </tr>\n",
              "  </thead>\n",
              "  <tbody>\n",
              "    <tr>\n",
              "      <th>0</th>\n",
              "      <td>incompétence cardiaque gauche</td>\n",
              "      <td>I501</td>\n",
              "    </tr>\n",
              "    <tr>\n",
              "      <th>1</th>\n",
              "      <td>carcinome voie urinaire supérieur</td>\n",
              "      <td>C689</td>\n",
              "    </tr>\n",
              "    <tr>\n",
              "      <th>2</th>\n",
              "      <td>vih voie respiratoire devoir à agent externe p...</td>\n",
              "      <td>J708</td>\n",
              "    </tr>\n",
              "    <tr>\n",
              "      <th>3</th>\n",
              "      <td>hématome bra</td>\n",
              "      <td>S400</td>\n",
              "    </tr>\n",
              "    <tr>\n",
              "      <th>4</th>\n",
              "      <td>ligature carotide gauche</td>\n",
              "      <td>Z924</td>\n",
              "    </tr>\n",
              "    <tr>\n",
              "      <th>...</th>\n",
              "      <td>...</td>\n",
              "      <td>...</td>\n",
              "    </tr>\n",
              "    <tr>\n",
              "      <th>29995</th>\n",
              "      <td>thrombose artère cérébral moyen</td>\n",
              "      <td>I660</td>\n",
              "    </tr>\n",
              "    <tr>\n",
              "      <th>29996</th>\n",
              "      <td>paralysie périodique familial</td>\n",
              "      <td>G723</td>\n",
              "    </tr>\n",
              "    <tr>\n",
              "      <th>29997</th>\n",
              "      <td>carbonisation corp</td>\n",
              "      <td>X09</td>\n",
              "    </tr>\n",
              "    <tr>\n",
              "      <th>29998</th>\n",
              "      <td>carcinome amygdal et plancher buccal</td>\n",
              "      <td>C148</td>\n",
              "    </tr>\n",
              "    <tr>\n",
              "      <th>29999</th>\n",
              "      <td>infection e Coli multirésister</td>\n",
              "      <td>P364</td>\n",
              "    </tr>\n",
              "  </tbody>\n",
              "</table>\n",
              "<p>30000 rows × 2 columns</p>\n",
              "</div>"
            ],
            "text/plain": [
              "                                                 RawText ICD10\n",
              "0                          incompétence cardiaque gauche  I501\n",
              "1                      carcinome voie urinaire supérieur  C689\n",
              "2      vih voie respiratoire devoir à agent externe p...  J708\n",
              "3                                           hématome bra  S400\n",
              "4                               ligature carotide gauche  Z924\n",
              "...                                                  ...   ...\n",
              "29995                    thrombose artère cérébral moyen  I660\n",
              "29996                      paralysie périodique familial  G723\n",
              "29997                                 carbonisation corp   X09\n",
              "29998               carcinome amygdal et plancher buccal  C148\n",
              "29999                     infection e Coli multirésister  P364\n",
              "\n",
              "[30000 rows x 2 columns]"
            ]
          },
          "execution_count": 33,
          "metadata": {},
          "output_type": "execute_result"
        }
      ],
      "source": [
        "df_val2 = df_val.copy()\n",
        "df_val2[\"RawText\"]= df_val.RawText.apply(lemmatize_sentence)\n",
        "df_val2"
      ]
    },
    {
      "cell_type": "code",
      "execution_count": 48,
      "metadata": {},
      "outputs": [],
      "source": [
        "df_test2 = df_val.copy()\n",
        "df_test2[\"RawText\"]= df_test.RawText.apply(lemmatize_sentence)"
      ]
    },
    {
      "cell_type": "code",
      "execution_count": 34,
      "metadata": {
        "colab": {
          "base_uri": "https://localhost:8080/"
        },
        "id": "fQ4al20wclDI",
        "outputId": "d0e6289b-0c55-42ed-ac86-5394254dd0ac"
      },
      "outputs": [
        {
          "name": "stdout",
          "output_type": "stream",
          "text": [
            "Nombre de mots :  711528\n",
            "Nombre de mots uniques:  28282\n"
          ]
        }
      ],
      "source": [
        "word_list = []\n",
        "for text in df_train2.RawText:\n",
        "  words = text.split(\" \")\n",
        "  for w in words:\n",
        "    word_list.append(w)\n",
        "unique_word = list(set(word_list)) \n",
        "print(\"Nombre de mots : \",len(word_list))\n",
        "print(\"Nombre de mots uniques: \",len(unique_word)) \n"
      ]
    },
    {
      "cell_type": "code",
      "execution_count": 35,
      "metadata": {
        "id": "hZpleIG3clc2"
      },
      "outputs": [
        {
          "name": "stderr",
          "output_type": "stream",
          "text": [
            "2021-12-17 20:02:08.291228: I tensorflow/core/platform/cpu_feature_guard.cc:151] This TensorFlow binary is optimized with oneAPI Deep Neural Network Library (oneDNN) to use the following CPU instructions in performance-critical operations:  AVX2 FMA\n",
            "To enable them in other operations, rebuild TensorFlow with the appropriate compiler flags.\n"
          ]
        }
      ],
      "source": [
        "vectorize_layer = tf.keras.layers.TextVectorization(max_tokens=len(unique_word), standardize = None)\n",
        "vectorize_layer.adapt(df_train2.RawText)"
      ]
    },
    {
      "cell_type": "code",
      "execution_count": 61,
      "metadata": {
        "id": "h30gDKRks-Ev"
      },
      "outputs": [],
      "source": [
        "model_all_letter_lemm = tf.keras.Sequential([\n",
        "    vectorize_layer,\n",
        "    tf.keras.layers.Embedding(input_dim=len(unique_word), output_dim=150, mask_zero = True),\n",
        "    tf.keras.layers.Conv1D(32, 3,activation=\"relu\", input_shape = (None, 128)),\n",
        "    tf.keras.layers.Bidirectional(tf.keras.layers.LSTM(128, dropout = 0.1, return_sequences=True)),\n",
        "    tf.keras.layers.GlobalMaxPooling1D(),\n",
        "    tf.keras.layers.Dense(64),\n",
        "    tf.keras.layers.Dense(units=9249, activation = \"softmax\")\n",
        "])"
      ]
    },
    {
      "cell_type": "code",
      "execution_count": 62,
      "metadata": {
        "id": "_FuAx92rtddt"
      },
      "outputs": [
        {
          "name": "stdout",
          "output_type": "stream",
          "text": [
            "Epoch 1/10\n",
            "2841/2841 [==============================] - 268s 92ms/step - loss: 6.9873 - accuracy: 0.0522 - val_loss: 5.6023 - val_accuracy: 0.1288\n",
            "Epoch 2/10\n",
            "2841/2841 [==============================] - 282s 99ms/step - loss: 4.6133 - accuracy: 0.2129 - val_loss: 4.0227 - val_accuracy: 0.2923\n",
            "Epoch 3/10\n",
            "2841/2841 [==============================] - 306s 108ms/step - loss: 3.2458 - accuracy: 0.3610 - val_loss: 3.2792 - val_accuracy: 0.3953\n",
            "Epoch 4/10\n",
            "2841/2841 [==============================] - 312s 110ms/step - loss: 2.4584 - accuracy: 0.4703 - val_loss: 2.9433 - val_accuracy: 0.4665\n",
            "Epoch 5/10\n",
            "2841/2841 [==============================] - 301s 106ms/step - loss: 1.9869 - accuracy: 0.5433 - val_loss: 2.7950 - val_accuracy: 0.4989\n",
            "Epoch 6/10\n",
            "2841/2841 [==============================] - 273s 96ms/step - loss: 1.6802 - accuracy: 0.5966 - val_loss: 2.7112 - val_accuracy: 0.5248\n",
            "Epoch 7/10\n",
            "2841/2841 [==============================] - 281s 99ms/step - loss: 1.4593 - accuracy: 0.6390 - val_loss: 2.6558 - val_accuracy: 0.5396\n",
            "Epoch 8/10\n",
            "2841/2841 [==============================] - 300s 105ms/step - loss: 1.3046 - accuracy: 0.6684 - val_loss: 2.6287 - val_accuracy: 0.5504\n",
            "Epoch 9/10\n",
            "2841/2841 [==============================] - 292s 103ms/step - loss: 1.1861 - accuracy: 0.6922 - val_loss: 2.5981 - val_accuracy: 0.5618\n",
            "Epoch 10/10\n",
            "2841/2841 [==============================] - 312s 110ms/step - loss: 1.0910 - accuracy: 0.7120 - val_loss: 2.6122 - val_accuracy: 0.5666\n"
          ]
        }
      ],
      "source": [
        "model_all_letter_lemm.compile(optimizer=\"adam\", loss=\"categorical_crossentropy\", metrics=[\"accuracy\"])\n",
        "history_lemm = model_all_letter_lemm.fit(df_train2.RawText, dummies_all_letters_train, validation_data=( df_val2.RawText , dummies_all_letters_val), batch_size = 64, epochs= 10 )"
      ]
    },
    {
      "cell_type": "code",
      "execution_count": 67,
      "metadata": {},
      "outputs": [
        {
          "name": "stdout",
          "output_type": "stream",
          "text": [
            "accuracy score :  0.792911648685376\n",
            "f1 score :  0.7977127337348682\n",
            "recall score :  0.7851185356805737\n"
          ]
        }
      ],
      "source": [
        "pred_train_all_letter_lemm = model_all_letter_lemm.predict(df_train2.RawText).argmax(axis=1)\n",
        "print(\"accuracy score : \", accuracy_score(pred_train_all_letter_lemm ,encoded_all_letters_train))\n",
        "print(\"f1 score : \" ,f1_score(pred_train_all_letter_lemm ,encoded_all_letters_train,average='weighted'))\n",
        "print(\"recall score : \", recall_score(pred_train_all_letter_lemm ,encoded_all_letters_train, average='macro'))"
      ]
    },
    {
      "cell_type": "code",
      "execution_count": 65,
      "metadata": {},
      "outputs": [
        {
          "name": "stdout",
          "output_type": "stream",
          "text": [
            "accuracy score :  0.5628333333333333\n",
            "f1 score :  0.5683841202023148\n",
            "recall score :  0.431817642619295\n"
          ]
        }
      ],
      "source": [
        "pred_val_all_letter_lemm = model_all_letter_lemm.predict(df_val2.RawText).argmax(axis=1)\n",
        "print(\"accuracy score : \", accuracy_score(pred_val_all_letter_lemm ,encoded_all_letters_val))\n",
        "print(\"f1 score : \" , f1_score(pred_val_all_letter_lemm ,encoded_all_letters_val,average='weighted'))\n",
        "print(\"recall score : \", recall_score(pred_val_all_letter_lemm ,encoded_all_letters_val, average='macro'))"
      ]
    },
    {
      "cell_type": "code",
      "execution_count": 64,
      "metadata": {
        "id": "t4mXYzBD9WGs"
      },
      "outputs": [
        {
          "name": "stdout",
          "output_type": "stream",
          "text": [
            "accuracy score :  0.5582\n",
            "f1 score :  0.5648449728297785\n",
            "recall score :  0.4237386333440339\n"
          ]
        }
      ],
      "source": [
        "pred_test_all_letter_lemm = model_all_letter_lemm.predict(df_test2.RawText).argmax(axis=1)\n",
        "print(\"accuracy score : \", accuracy_score(pred_test_all_letter_lemm ,encoded_all_letters_test))\n",
        "print(\"f1 score : \" ,f1_score(pred_test_all_letter_lemm ,encoded_all_letters_test,average='weighted'))\n",
        "print(\"recall score : \", recall_score(pred_test_all_letter_lemm ,encoded_all_letters_test, average='macro'))"
      ]
    },
    {
      "cell_type": "code",
      "execution_count": 56,
      "metadata": {
        "id": "01T5SBbM9WTw"
      },
      "outputs": [
        {
          "data": {
            "image/png": "[encoded data removed]",
            "text/plain": [
              "<Figure size 864x576 with 1 Axes>"
            ]
          },
          "metadata": {
            "needs_background": "light"
          },
          "output_type": "display_data"
        }
      ],
      "source": [
        "# summarize history for accuracy\n",
        "plt.figure(figsize=(12,8))\n",
        "plt.plot(history_lemm.history['accuracy'])\n",
        "plt.plot(history_lemm.history['val_accuracy'])\n",
        "plt.title('model accuracy')\n",
        "plt.ylabel('accuracy')\n",
        "plt.xlabel('epoch')\n",
        "plt.legend(['train', 'vald'], loc='upper left')\n",
        "plt.show()"
      ]
    },
    {
      "cell_type": "code",
      "execution_count": 63,
      "metadata": {
        "id": "vU8GcSK79WeT"
      },
      "outputs": [
        {
          "data": {
            "image/png": "[encoded data removed]",
            "text/plain": [
              "<Figure size 864x576 with 1 Axes>"
            ]
          },
          "metadata": {
            "needs_background": "light"
          },
          "output_type": "display_data"
        }
      ],
      "source": [
        "# summarize history for loss\n",
        "plt.figure(figsize = (12,8))\n",
        "plt.plot(history_lemm.history['loss'])\n",
        "plt.plot(history_lemm.history['val_loss'])\n",
        "plt.title('model loss')\n",
        "plt.ylabel('loss')\n",
        "plt.xlabel('epoch')\n",
        "plt.legend(['train', 'vald'], loc='upper left')\n",
        "plt.show()"
      ]
    },
    {
      "cell_type": "code",
      "execution_count": null,
      "metadata": {},
      "outputs": [],
      "source": []
    }
  ],
  "metadata": {
    "colab": {
      "collapsed_sections": [],
      "name": "projet_final_deep_learning.ipynb",
      "provenance": [],
      "toc_visible": true
    },
    "kernelspec": {
      "display_name": "Python 3",
      "language": "python",
      "name": "python3"
    },
    "language_info": {
      "codemirror_mode": {
        "name": "ipython",
        "version": 3
      },
      "file_extension": ".py",
      "mimetype": "text/x-python",
      "name": "python",
      "nbconvert_exporter": "python",
      "pygments_lexer": "ipython3",
      "version": "3.9.5"
    }
  },
  "nbformat": 4,
  "nbformat_minor": 0
}
